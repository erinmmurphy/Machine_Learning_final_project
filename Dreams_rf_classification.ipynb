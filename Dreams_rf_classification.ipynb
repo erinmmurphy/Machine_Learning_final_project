{
 "cells": [
  {
   "cell_type": "markdown",
   "id": "2f639ecc-e4c2-4b00-9722-a21cbb3a871d",
   "metadata": {},
   "source": [
    "# Text classification of dream accounts using Random Forest\n",
    "\n",
    "Many people struggle to interpret their dreams and the meaning of various symbols or elements. Creating a tool that automatically codes specific elements of dreams can present an opportunity to highlight significant themes that may provide insight into an individual dreamer’s unconscious. This project trains a model to determine emotions present in a text dream account using a [dataset](https://datadryad.org/stash/dataset/doi:10.5061/dryad.qbzkh18fr) containing dream reports that was used by researchers who wrote a paper titled [Our dreams, our selves: automatic analysis of dream reports](https://datadryad.org/stash/dataset/doi:10.5061/dryad.qbzkh18fr). The researchers sourced the dream data, a collection of 20k+ dream reports, from [dreambank.net](http://www.dreambank.net). The dataset contains journal-like text accounts of dreams from a number of individuals that have been coded using the [Hall/Van de Castle dream coding system](https://dreams.ucsc.edu/Coding/). This system was developed by psychologists as a method for doing quantitative content analysis on dreams. It assigns quantitative values to several dream elements: characters (male/female, animal, family, etc), aggression or friendliness of interactions, negative/positive emotions. The dataset also includes information on the dreamers’ profiles and dates of dreams. "
   ]
  },
  {
   "cell_type": "markdown",
   "id": "8d8944b2-1d3a-4688-b4ef-68c31875e564",
   "metadata": {},
   "source": [
    "## Import libraries"
   ]
  },
  {
   "cell_type": "code",
   "execution_count": 1,
   "id": "ce2163c1-c225-4fb4-aa5c-538df45e8edb",
   "metadata": {},
   "outputs": [],
   "source": [
    "import sklearn \n",
    "import pandas as pd\n",
    "import numpy as np\n",
    "from sklearn.feature_extraction.text import CountVectorizer, TfidfTransformer\n",
    "from sklearn.ensemble import RandomForestClassifier\n",
    "from sklearn.model_selection import train_test_split\n",
    "from sklearn.pipeline import Pipeline\n",
    "from sklearn.metrics import confusion_matrix, plot_confusion_matrix, ConfusionMatrixDisplay\n",
    "from sklearn.model_selection import GridSearchCV\n",
    "import matplotlib.pyplot as plt\n",
    "from sklearn.metrics import classification_report"
   ]
  },
  {
   "cell_type": "markdown",
   "id": "e65fa30e-0722-4ccc-b75a-1defc71b23ff",
   "metadata": {},
   "source": [
    "## Load dream dataset csv file"
   ]
  },
  {
   "cell_type": "code",
   "execution_count": 2,
   "id": "350d4f4c-09cb-4814-8577-638e10cb1002",
   "metadata": {},
   "outputs": [
    {
     "data": {
      "text/plain": [
       "(21001, 21)"
      ]
     },
     "execution_count": 2,
     "metadata": {},
     "output_type": "execute_result"
    }
   ],
   "source": [
    "df_dreams = pd.read_csv('data/rsos_dream_data.csv')\n",
    "df_dreams.head(8)\n",
    "df_dreams.shape"
   ]
  },
  {
   "cell_type": "markdown",
   "id": "561bf22a-7ac1-45c3-aabc-7a096e3a4780",
   "metadata": {},
   "source": [
    "## Data cleaning steps"
   ]
  },
  {
   "cell_type": "code",
   "execution_count": 3,
   "id": "551fc544-4412-42f6-9385-ed2361d8d9b6",
   "metadata": {},
   "outputs": [],
   "source": [
    "df_dreams = df_dreams[['text_dream','emotions_code']].dropna()"
   ]
  },
  {
   "cell_type": "code",
   "execution_count": 4,
   "id": "d6dfeec1-7db6-4972-ae48-6897640dee5d",
   "metadata": {},
   "outputs": [],
   "source": [
    "df_dreams['text_dream'] = df_dreams['text_dream'].str.lower()"
   ]
  },
  {
   "cell_type": "code",
   "execution_count": 5,
   "id": "641f23ff-7010-41b4-8fc1-c79170d3fa47",
   "metadata": {},
   "outputs": [
    {
     "data": {
      "text/html": [
       "<div>\n",
       "<style scoped>\n",
       "    .dataframe tbody tr th:only-of-type {\n",
       "        vertical-align: middle;\n",
       "    }\n",
       "\n",
       "    .dataframe tbody tr th {\n",
       "        vertical-align: top;\n",
       "    }\n",
       "\n",
       "    .dataframe thead th {\n",
       "        text-align: right;\n",
       "    }\n",
       "</style>\n",
       "<table border=\"1\" class=\"dataframe\">\n",
       "  <thead>\n",
       "    <tr style=\"text-align: right;\">\n",
       "      <th></th>\n",
       "      <th>text_dream</th>\n",
       "      <th>emotions_code</th>\n",
       "    </tr>\n",
       "  </thead>\n",
       "  <tbody>\n",
       "    <tr>\n",
       "      <th>1</th>\n",
       "      <td>i'm at a family reunion in a large fine house ...</td>\n",
       "      <td>SD 2IKA</td>\n",
       "    </tr>\n",
       "    <tr>\n",
       "      <th>2</th>\n",
       "      <td>i watch a plane fly past and shortly realize i...</td>\n",
       "      <td>SD 1ISA, AP D, AP D</td>\n",
       "    </tr>\n",
       "    <tr>\n",
       "      <th>3</th>\n",
       "      <td>me pulling the green leaves and berries off so...</td>\n",
       "      <td>SD 2ISA, SD D</td>\n",
       "    </tr>\n",
       "    <tr>\n",
       "      <th>4</th>\n",
       "      <td>i'm in a room that reminds me of (but definite...</td>\n",
       "      <td>AP D, AP D, AP 1MSA, CO D, SD D, AP D</td>\n",
       "    </tr>\n",
       "    <tr>\n",
       "      <th>5</th>\n",
       "      <td>living next door to loretta in an apartment - ...</td>\n",
       "      <td>HA 1FSA</td>\n",
       "    </tr>\n",
       "    <tr>\n",
       "      <th>6</th>\n",
       "      <td>kidnapped - i'm on my way somewhere else (by c...</td>\n",
       "      <td>AN 1ISA, AN D, SD 2ISA, AN D</td>\n",
       "    </tr>\n",
       "    <tr>\n",
       "      <th>7</th>\n",
       "      <td>i'm alone in an apartment - old place, inside ...</td>\n",
       "      <td>AP D, SD D</td>\n",
       "    </tr>\n",
       "    <tr>\n",
       "      <th>11</th>\n",
       "      <td>me and mb (one of my cats) in a big fancy dark...</td>\n",
       "      <td>AP 1ISA, SD 2ISA, AP 1IKA</td>\n",
       "    </tr>\n",
       "  </tbody>\n",
       "</table>\n",
       "</div>"
      ],
      "text/plain": [
       "                                           text_dream  \\\n",
       "1   i'm at a family reunion in a large fine house ...   \n",
       "2   i watch a plane fly past and shortly realize i...   \n",
       "3   me pulling the green leaves and berries off so...   \n",
       "4   i'm in a room that reminds me of (but definite...   \n",
       "5   living next door to loretta in an apartment - ...   \n",
       "6   kidnapped - i'm on my way somewhere else (by c...   \n",
       "7   i'm alone in an apartment - old place, inside ...   \n",
       "11  me and mb (one of my cats) in a big fancy dark...   \n",
       "\n",
       "                            emotions_code  \n",
       "1                                 SD 2IKA  \n",
       "2                     SD 1ISA, AP D, AP D  \n",
       "3                           SD 2ISA, SD D  \n",
       "4   AP D, AP D, AP 1MSA, CO D, SD D, AP D  \n",
       "5                                 HA 1FSA  \n",
       "6            AN 1ISA, AN D, SD 2ISA, AN D  \n",
       "7                              AP D, SD D  \n",
       "11              AP 1ISA, SD 2ISA, AP 1IKA  "
      ]
     },
     "execution_count": 5,
     "metadata": {},
     "output_type": "execute_result"
    }
   ],
   "source": [
    "df_dreams.head(8)"
   ]
  },
  {
   "cell_type": "code",
   "execution_count": 6,
   "id": "9c94b7ed-8f90-4c10-a1fc-cff10f9e9061",
   "metadata": {},
   "outputs": [
    {
     "name": "stdout",
     "output_type": "stream",
     "text": [
      "<class 'pandas.core.frame.DataFrame'>\n",
      "Int64Index: 11086 entries, 1 to 20999\n",
      "Data columns (total 2 columns):\n",
      " #   Column         Non-Null Count  Dtype \n",
      "---  ------         --------------  ----- \n",
      " 0   text_dream     11086 non-null  object\n",
      " 1   emotions_code  11086 non-null  object\n",
      "dtypes: object(2)\n",
      "memory usage: 259.8+ KB\n"
     ]
    }
   ],
   "source": [
    "df_dreams.info()"
   ]
  },
  {
   "cell_type": "markdown",
   "id": "0be6514f-2679-4605-889e-74d89fc8f5f4",
   "metadata": {},
   "source": [
    "## Split emotions_code column to keep only the first emotion code (for simplicity)."
   ]
  },
  {
   "cell_type": "code",
   "execution_count": 7,
   "id": "ddeced96-3e65-4aba-b159-9ebb343c8fbf",
   "metadata": {},
   "outputs": [],
   "source": [
    "df_dreams[\"emotion_code\"] = df_dreams['emotions_code'].str.split(\" \", n = 1, expand = True)[0]"
   ]
  },
  {
   "cell_type": "code",
   "execution_count": 8,
   "id": "488537d1-c58b-49e4-8972-f5b250c2845f",
   "metadata": {},
   "outputs": [
    {
     "data": {
      "text/plain": [
       "AP             3503\n",
       "HA             2161\n",
       "AN             2117\n",
       "CO             1682\n",
       "SD             1612\n",
       "AP1IKA,           2\n",
       "CO1IKA,           2\n",
       "AP1IKA            2\n",
       "MAN1MKA           1\n",
       "CO1IKA            1\n",
       "WOMAN2IDA         1\n",
       "INDIAN1IEA        1\n",
       "REAGAN1IKA,       1\n",
       "Name: emotion_code, dtype: int64"
      ]
     },
     "execution_count": 8,
     "metadata": {},
     "output_type": "execute_result"
    }
   ],
   "source": [
    "df_dreams[\"emotion_code\"].value_counts()"
   ]
  },
  {
   "cell_type": "code",
   "execution_count": 9,
   "id": "d7fb8cd6-6c55-4807-8a5e-ce3afdf4c164",
   "metadata": {},
   "outputs": [
    {
     "data": {
      "text/plain": [
       "(11086, 3)"
      ]
     },
     "execution_count": 9,
     "metadata": {},
     "output_type": "execute_result"
    }
   ],
   "source": [
    "df_dreams.shape"
   ]
  },
  {
   "cell_type": "markdown",
   "id": "9ecf60ca-ded1-4fe3-8fd3-3393e2cb6b56",
   "metadata": {},
   "source": [
    "## Keep only values with the dream codes we want to work with and defining the dream codes in a Python dictonary."
   ]
  },
  {
   "cell_type": "code",
   "execution_count": 10,
   "id": "ed072aa6-cb48-4fb6-93c9-a26813072c08",
   "metadata": {},
   "outputs": [],
   "source": [
    "target_codes = [\"AP\", \"HA\", \"AN\", \"CO\", \"SD\"]\n",
    "\n",
    "df_dreams = df_dreams[df_dreams['emotion_code'].isin(target_codes)]"
   ]
  },
  {
   "cell_type": "code",
   "execution_count": 11,
   "id": "2d1e9b49-31f6-4be2-82a2-943c76148d7e",
   "metadata": {},
   "outputs": [
    {
     "name": "stdout",
     "output_type": "stream",
     "text": [
      "{'AP': 'Apprehension', 'HA': 'Happiness', 'AN': 'Anger', 'CO': 'Confusion', 'SD': 'Sadness'}\n"
     ]
    }
   ],
   "source": [
    "categories = {\n",
    "    'AP': 'Apprehension',\n",
    "    'HA': 'Happiness',\n",
    "    'AN': 'Anger',\n",
    "    'CO': 'Confusion',\n",
    "    'SD': 'Sadness'\n",
    "}\n",
    "\n",
    "print(categories)"
   ]
  },
  {
   "cell_type": "code",
   "execution_count": 12,
   "id": "73fa0476-4994-47df-ab0b-f9c30638eec5",
   "metadata": {},
   "outputs": [
    {
     "data": {
      "text/plain": [
       "(11075, 3)"
      ]
     },
     "execution_count": 12,
     "metadata": {},
     "output_type": "execute_result"
    }
   ],
   "source": [
    "df_dreams.shape"
   ]
  },
  {
   "cell_type": "markdown",
   "id": "34b5a3fd-eb3b-4e82-8f99-52ff1fc4dea8",
   "metadata": {},
   "source": [
    "## Change the data type from string to list."
   ]
  },
  {
   "cell_type": "code",
   "execution_count": 13,
   "id": "b44e4c78-46b8-4eb0-b003-1c7b69a9f254",
   "metadata": {},
   "outputs": [],
   "source": [
    "X = df_dreams['text_dream'].to_list()\n",
    "y = df_dreams['emotion_code'].to_list()"
   ]
  },
  {
   "cell_type": "code",
   "execution_count": 14,
   "id": "a96fb630-9927-4425-a4b2-22b0c98f6002",
   "metadata": {},
   "outputs": [
    {
     "data": {
      "text/plain": [
       "(list, 11075)"
      ]
     },
     "execution_count": 14,
     "metadata": {},
     "output_type": "execute_result"
    }
   ],
   "source": [
    "type(X), len(X)"
   ]
  },
  {
   "cell_type": "code",
   "execution_count": 15,
   "id": "754d619a-89d1-4d9e-a547-23289692bdac",
   "metadata": {},
   "outputs": [
    {
     "data": {
      "text/plain": [
       "(11075, 11075)"
      ]
     },
     "execution_count": 15,
     "metadata": {},
     "output_type": "execute_result"
    }
   ],
   "source": [
    "len(X),len(y)"
   ]
  },
  {
   "cell_type": "markdown",
   "id": "a1e0fc4a-66a5-40f8-8e78-2f645c41b6ab",
   "metadata": {},
   "source": [
    "## Split the data into training and test sets."
   ]
  },
  {
   "cell_type": "code",
   "execution_count": 16,
   "id": "fa17fe5a-68cc-43bc-aa15-47a499247295",
   "metadata": {},
   "outputs": [],
   "source": [
    "X_train, X_test, y_train, y_test = train_test_split(X, y, test_size=0.2, random_state=0)"
   ]
  },
  {
   "cell_type": "code",
   "execution_count": 17,
   "id": "975073f3-109f-40de-ad8d-f3a40c9708d7",
   "metadata": {},
   "outputs": [
    {
     "name": "stdout",
     "output_type": "stream",
     "text": [
      "X_train shape: 8860\n",
      "y_train shape: 8860\n"
     ]
    }
   ],
   "source": [
    "print(\"X_train shape: {}\" .format(len(X_train)))\n",
    "print(\"y_train shape: {}\" .format(len(y_train)))"
   ]
  },
  {
   "cell_type": "code",
   "execution_count": 18,
   "id": "e8b6bc60-33a4-401e-b2a7-2128b7f50f5d",
   "metadata": {},
   "outputs": [
    {
     "name": "stdout",
     "output_type": "stream",
     "text": [
      "X_test shape: 2215\n",
      "y_test shape: 2215\n"
     ]
    }
   ],
   "source": [
    "print(\"X_test shape: {}\" .format(len(X_test)))\n",
    "print(\"y_test shape: {}\" .format(len(y_test)))"
   ]
  },
  {
   "cell_type": "markdown",
   "id": "21894b9a-75a4-4510-9245-4a20e6bb8de4",
   "metadata": {},
   "source": [
    "### Build a pipeline to tokenize text, determine term frequencies, and train a random forest classifier."
   ]
  },
  {
   "cell_type": "code",
   "execution_count": 19,
   "id": "4c5447cc-48c8-476f-befc-85d61c31a954",
   "metadata": {},
   "outputs": [],
   "source": [
    "text_clf = Pipeline([\n",
    "    ('vect', CountVectorizer(lowercase=False, stop_words=\"english\", ngram_range=(1,2))),\n",
    "    ('tfidf', TfidfTransformer()),\n",
    "    ('clf', RandomForestClassifier(n_jobs=-1)),\n",
    "])"
   ]
  },
  {
   "cell_type": "code",
   "execution_count": 20,
   "id": "66b7b9ae-374f-4512-8484-ec51982a1830",
   "metadata": {},
   "outputs": [
    {
     "data": {
      "text/plain": [
       "Pipeline(steps=[('vect',\n",
       "                 CountVectorizer(lowercase=False, ngram_range=(1, 2),\n",
       "                                 stop_words='english')),\n",
       "                ('tfidf', TfidfTransformer()),\n",
       "                ('clf', RandomForestClassifier(n_jobs=-1))])"
      ]
     },
     "execution_count": 20,
     "metadata": {},
     "output_type": "execute_result"
    }
   ],
   "source": [
    "text_clf.fit(X_train, y_train)"
   ]
  },
  {
   "cell_type": "markdown",
   "id": "706e4248-a361-4aa4-9df2-6485ecc31086",
   "metadata": {},
   "source": [
    "### Evaluate performance of test set."
   ]
  },
  {
   "cell_type": "code",
   "execution_count": 21,
   "id": "e2e53a73-c5a5-4600-b58e-81040215a829",
   "metadata": {},
   "outputs": [
    {
     "data": {
      "text/plain": [
       "0.5038374717832957"
      ]
     },
     "execution_count": 21,
     "metadata": {},
     "output_type": "execute_result"
    }
   ],
   "source": [
    "predicted = text_clf.predict(X_test)\n",
    "np.mean(predicted == y_test)"
   ]
  },
  {
   "cell_type": "markdown",
   "id": "1276dc65-e1a7-40f5-a681-7a0dac78a844",
   "metadata": {},
   "source": [
    "## Confusion matrix"
   ]
  },
  {
   "cell_type": "code",
   "execution_count": 22,
   "id": "3c77b9ff-057a-45c3-bfd2-22f449e42bd7",
   "metadata": {},
   "outputs": [
    {
     "data": {
      "text/plain": [
       "array([[201, 217,   1,   9,   4],\n",
       "       [ 18, 632,   2,  17,   4],\n",
       "       [ 20, 247,  56,  23,   5],\n",
       "       [ 18, 251,   2, 163,   4],\n",
       "       [ 17, 223,   3,  14,  64]])"
      ]
     },
     "execution_count": 22,
     "metadata": {},
     "output_type": "execute_result"
    }
   ],
   "source": [
    "cm = confusion_matrix(y_test,predicted, labels=text_clf.classes_)\n",
    "cm"
   ]
  },
  {
   "cell_type": "markdown",
   "id": "8edcc0c0-6a58-4354-9069-2093eae836ee",
   "metadata": {},
   "source": [
    "## Plot confusion matrix"
   ]
  },
  {
   "cell_type": "code",
   "execution_count": 23,
   "id": "57538fde-db7e-4dda-a09e-bd45fdf15af1",
   "metadata": {},
   "outputs": [
    {
     "data": {
      "image/png": "[encoded data removed]",
      "text/plain": [
       "<Figure size 432x288 with 2 Axes>"
      ]
     },
     "metadata": {
      "needs_background": "light"
     },
     "output_type": "display_data"
    }
   ],
   "source": [
    "disp = ConfusionMatrixDisplay(confusion_matrix=cm,\n",
    "                              display_labels=text_clf.classes_)\n",
    "disp.plot()\n",
    "\n",
    "plt.show()"
   ]
  },
  {
   "cell_type": "markdown",
   "id": "d2dda87d-b7bb-45a2-a7e7-dbaa691720bd",
   "metadata": {},
   "source": [
    "## Classification report"
   ]
  },
  {
   "cell_type": "code",
   "execution_count": 24,
   "id": "4e5d3045-53f7-405b-8dfa-3ca288053caf",
   "metadata": {},
   "outputs": [
    {
     "name": "stdout",
     "output_type": "stream",
     "text": [
      "              precision    recall  f1-score   support\n",
      "\n",
      "          AN       0.73      0.47      0.57       432\n",
      "          AP       0.40      0.94      0.56       673\n",
      "          CO       0.88      0.16      0.27       351\n",
      "          HA       0.72      0.37      0.49       438\n",
      "          SD       0.79      0.20      0.32       321\n",
      "\n",
      "    accuracy                           0.50      2215\n",
      "   macro avg       0.70      0.43      0.44      2215\n",
      "weighted avg       0.66      0.50      0.47      2215\n",
      "\n"
     ]
    }
   ],
   "source": [
    "print(classification_report(y_test, predicted))"
   ]
  },
  {
   "cell_type": "markdown",
   "id": "9a8657c5-7e5f-4064-8697-90c3cbadb62d",
   "metadata": {},
   "source": [
    "## Parameter tuning with GridSearch CV"
   ]
  },
  {
   "cell_type": "code",
   "execution_count": 25,
   "id": "65e55230-9510-416b-b6fd-661805fbd25f",
   "metadata": {},
   "outputs": [],
   "source": [
    "param_grid = {\n",
    "    'clf__n_estimators': [50, 100, 200],\n",
    "    'clf__max_features': [2, 4, 6, 8],\n",
    "}"
   ]
  },
  {
   "cell_type": "code",
   "execution_count": 27,
   "id": "dca91231-7ecb-4e3a-a89b-3f3fc14708fd",
   "metadata": {},
   "outputs": [],
   "source": [
    "gs_clf = GridSearchCV(text_clf, param_grid, cv=5, n_jobs=-1)"
   ]
  },
  {
   "cell_type": "code",
   "execution_count": 29,
   "id": "c85ccd12-d8f5-49e2-85df-4375f27994c4",
   "metadata": {},
   "outputs": [],
   "source": [
    "gs_clf = gs_clf.fit(X_train[:500], y_train[:500])"
   ]
  },
  {
   "cell_type": "markdown",
   "id": "b48fb68d-1326-49ec-beb0-33423230ce76",
   "metadata": {},
   "source": [
    "## Now that the classifier is trained, use it to predict the emotion code on a new dream account."
   ]
  },
  {
   "cell_type": "code",
   "execution_count": 41,
   "id": "8b270a8c-25ee-47b2-8efe-ebf49be54838",
   "metadata": {},
   "outputs": [
    {
     "data": {
      "text/plain": [
       "array(['AP'], dtype='<U2')"
      ]
     },
     "execution_count": 41,
     "metadata": {},
     "output_type": "execute_result"
    }
   ],
   "source": [
    "gs_clf.predict(['i saw a snake in the house'])"
   ]
  },
  {
   "cell_type": "markdown",
   "id": "592e54e3-f589-4a1a-94f1-e6e92ceb7413",
   "metadata": {},
   "source": [
    "## Determine which are the best parameters,"
   ]
  },
  {
   "cell_type": "code",
   "execution_count": 32,
   "id": "4d7f00c3-f4bb-42ca-824a-5213c8748ce3",
   "metadata": {},
   "outputs": [
    {
     "name": "stdout",
     "output_type": "stream",
     "text": [
      "Best parameter (CV score=0.362):\n",
      "{'clf__max_features': 2, 'clf__n_estimators': 200}\n"
     ]
    }
   ],
   "source": [
    "print(\"Best parameter (CV score=%0.3f):\" % gs_clf.best_score_)\n",
    "print(gs_clf.best_params_)"
   ]
  }
 ],
 "metadata": {
  "kernelspec": {
   "display_name": "Python 3 (ipykernel)",
   "language": "python",
   "name": "python3"
  },
  "language_info": {
   "codemirror_mode": {
    "name": "ipython",
    "version": 3
   },
   "file_extension": ".py",
   "mimetype": "text/x-python",
   "name": "python",
   "nbconvert_exporter": "python",
   "pygments_lexer": "ipython3",
   "version": "3.9.12"
  }
 },
 "nbformat": 4,
 "nbformat_minor": 5
}
