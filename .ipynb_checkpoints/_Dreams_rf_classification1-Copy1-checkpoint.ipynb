{
 "cells": [
  {
   "cell_type": "code",
   "execution_count": 2,
   "id": "ce2163c1-c225-4fb4-aa5c-538df45e8edb",
   "metadata": {},
   "outputs": [],
   "source": [
    "import sklearn \n",
    "import pandas as pd\n",
    "import numpy as np"
   ]
  },
  {
   "cell_type": "code",
   "execution_count": 12,
   "id": "e59730fc-33ad-4c5e-a227-2aeab2ac67c3",
   "metadata": {},
   "outputs": [],
   "source": [
    "#categories = ['alt.atheism', 'soc.religion.christian',\n",
    "#          'comp.graphics', 'sci.med']"
   ]
  },
  {
   "cell_type": "code",
   "execution_count": 4,
   "id": "fa30db8f-0082-48d2-ad71-71cb3a5349aa",
   "metadata": {},
   "outputs": [],
   "source": [
    "#from sklearn.datasets import fetch_20newsgroups\n",
    "#twenty_train = fetch_20newsgroups(subset='train',\n",
    "    # categories=categories, shuffle=True, random_state=42)"
   ]
  },
  {
   "cell_type": "code",
   "execution_count": 4,
   "id": "350d4f4c-09cb-4814-8577-638e10cb1002",
   "metadata": {},
   "outputs": [
    {
     "data": {
      "text/html": [
       "<div>\n",
       "<style scoped>\n",
       "    .dataframe tbody tr th:only-of-type {\n",
       "        vertical-align: middle;\n",
       "    }\n",
       "\n",
       "    .dataframe tbody tr th {\n",
       "        vertical-align: top;\n",
       "    }\n",
       "\n",
       "    .dataframe thead th {\n",
       "        text-align: right;\n",
       "    }\n",
       "</style>\n",
       "<table border=\"1\" class=\"dataframe\">\n",
       "  <thead>\n",
       "    <tr style=\"text-align: right;\">\n",
       "      <th></th>\n",
       "      <th>dream_id</th>\n",
       "      <th>dreamer</th>\n",
       "      <th>description</th>\n",
       "      <th>dream_date</th>\n",
       "      <th>dream_language</th>\n",
       "      <th>text_dream</th>\n",
       "      <th>characters_code</th>\n",
       "      <th>emotions_code</th>\n",
       "      <th>aggression_code</th>\n",
       "      <th>friendliness_code</th>\n",
       "      <th>...</th>\n",
       "      <th>Male</th>\n",
       "      <th>Animal</th>\n",
       "      <th>Friends</th>\n",
       "      <th>Family</th>\n",
       "      <th>Dead&amp;Imaginary</th>\n",
       "      <th>Aggression/Friendliness</th>\n",
       "      <th>A/CIndex</th>\n",
       "      <th>F/CIndex</th>\n",
       "      <th>S/CIndex</th>\n",
       "      <th>NegativeEmotions</th>\n",
       "    </tr>\n",
       "  </thead>\n",
       "  <tbody>\n",
       "    <tr>\n",
       "      <th>0</th>\n",
       "      <td>1.0</td>\n",
       "      <td>alta</td>\n",
       "      <td>Alta: a detailed dreamer</td>\n",
       "      <td>1957</td>\n",
       "      <td>en</td>\n",
       "      <td>The one at the Meads's house, where it's bigge...</td>\n",
       "      <td>2ISA, 1MKA, 1FDA, 1IOA, 2ISA</td>\n",
       "      <td>NaN</td>\n",
       "      <td>2IKA &gt; Q</td>\n",
       "      <td>2IKA 4&gt; Q</td>\n",
       "      <td>...</td>\n",
       "      <td>0.5</td>\n",
       "      <td>0</td>\n",
       "      <td>0.2</td>\n",
       "      <td>0.2</td>\n",
       "      <td>0</td>\n",
       "      <td>0</td>\n",
       "      <td>0.2</td>\n",
       "      <td>0.2</td>\n",
       "      <td>0</td>\n",
       "      <td>0</td>\n",
       "    </tr>\n",
       "    <tr>\n",
       "      <th>1</th>\n",
       "      <td>2.0</td>\n",
       "      <td>alta</td>\n",
       "      <td>Alta: a detailed dreamer</td>\n",
       "      <td>8/11/67</td>\n",
       "      <td>en</td>\n",
       "      <td>I'm at a family reunion in a large fine house ...</td>\n",
       "      <td>2ISA, people, 2ISA</td>\n",
       "      <td>SD 2IKA</td>\n",
       "      <td>D &gt; Q, Q &gt; 2ISA</td>\n",
       "      <td>NaN</td>\n",
       "      <td>...</td>\n",
       "      <td>0</td>\n",
       "      <td>0</td>\n",
       "      <td>0</td>\n",
       "      <td>0</td>\n",
       "      <td>0</td>\n",
       "      <td>1</td>\n",
       "      <td>0.666666667</td>\n",
       "      <td>0</td>\n",
       "      <td>0</td>\n",
       "      <td>1</td>\n",
       "    </tr>\n",
       "    <tr>\n",
       "      <th>2</th>\n",
       "      <td>3.0</td>\n",
       "      <td>alta</td>\n",
       "      <td>Alta: a detailed dreamer</td>\n",
       "      <td>8/1/85</td>\n",
       "      <td>en</td>\n",
       "      <td>I watch a plane fly past and shortly realize i...</td>\n",
       "      <td>2ISA, 2ISA, 1FSA, 1MBA, 1IOA, 2ISA, 2FDA</td>\n",
       "      <td>SD 1ISA, AP D, AP D</td>\n",
       "      <td>It PRP &gt;, It PRP &gt;, D &gt; 1FKA</td>\n",
       "      <td>NaN</td>\n",
       "      <td>...</td>\n",
       "      <td>0.333333333</td>\n",
       "      <td>0</td>\n",
       "      <td>0</td>\n",
       "      <td>0.285714286</td>\n",
       "      <td>0</td>\n",
       "      <td>1</td>\n",
       "      <td>0.428571429</td>\n",
       "      <td>0</td>\n",
       "      <td>0</td>\n",
       "      <td>1</td>\n",
       "    </tr>\n",
       "    <tr>\n",
       "      <th>3</th>\n",
       "      <td>4.0</td>\n",
       "      <td>alta</td>\n",
       "      <td>Alta: a detailed dreamer</td>\n",
       "      <td>1985?</td>\n",
       "      <td>en</td>\n",
       "      <td>Me pulling the green leaves and berries off so...</td>\n",
       "      <td>1MAA, 1FMA, 2ISA, 2IKA, 1ANI, 1ANI, 1IOA, 2ISA...</td>\n",
       "      <td>SD 2ISA, SD D</td>\n",
       "      <td>Q &gt; Q, 2ISA &gt; Q, 2ISA &gt; Q, D &gt; 1MSA</td>\n",
       "      <td>1IKA 4&gt; Q, 2ISA 4&gt; 2ISA</td>\n",
       "      <td>...</td>\n",
       "      <td>0.666666667</td>\n",
       "      <td>0.176470588</td>\n",
       "      <td>0.142857143</td>\n",
       "      <td>0.142857143</td>\n",
       "      <td>0</td>\n",
       "      <td>1</td>\n",
       "      <td>0.235294118</td>\n",
       "      <td>0.117647059</td>\n",
       "      <td>0</td>\n",
       "      <td>1</td>\n",
       "    </tr>\n",
       "    <tr>\n",
       "      <th>4</th>\n",
       "      <td>5.0</td>\n",
       "      <td>alta</td>\n",
       "      <td>Alta: a detailed dreamer</td>\n",
       "      <td>1985?</td>\n",
       "      <td>en</td>\n",
       "      <td>I'm in a room that reminds me of (but definite...</td>\n",
       "      <td>1IRA, 1MSA, 1ISA, 2ISA, 1ISA, 1IKA</td>\n",
       "      <td>AP D, AP D, AP 1MSA, CO D, SD D, AP D</td>\n",
       "      <td>1MSA &gt; D, Q &gt; Q, D &gt; 2IKA, D &gt; 2IKA, D &gt; 1MSA,...</td>\n",
       "      <td>D 4&gt; Q</td>\n",
       "      <td>...</td>\n",
       "      <td>1</td>\n",
       "      <td>0</td>\n",
       "      <td>0.166666667</td>\n",
       "      <td>0.166666667</td>\n",
       "      <td>0</td>\n",
       "      <td>0.875</td>\n",
       "      <td>1.333333333</td>\n",
       "      <td>0.166666667</td>\n",
       "      <td>0</td>\n",
       "      <td>1</td>\n",
       "    </tr>\n",
       "    <tr>\n",
       "      <th>5</th>\n",
       "      <td>6.0</td>\n",
       "      <td>alta</td>\n",
       "      <td>Alta: a detailed dreamer</td>\n",
       "      <td>1985?</td>\n",
       "      <td>en</td>\n",
       "      <td>Living next door to Loretta in an apartment - ...</td>\n",
       "      <td>1FSA, 2ISA, 1FDA, 1IIC</td>\n",
       "      <td>HA 1FSA</td>\n",
       "      <td>D &gt; 2IKA</td>\n",
       "      <td>NaN</td>\n",
       "      <td>...</td>\n",
       "      <td>0</td>\n",
       "      <td>0</td>\n",
       "      <td>0</td>\n",
       "      <td>0.5</td>\n",
       "      <td>0</td>\n",
       "      <td>1</td>\n",
       "      <td>0.25</td>\n",
       "      <td>0</td>\n",
       "      <td>0</td>\n",
       "      <td>0</td>\n",
       "    </tr>\n",
       "    <tr>\n",
       "      <th>6</th>\n",
       "      <td>7.0</td>\n",
       "      <td>alta</td>\n",
       "      <td>Alta: a detailed dreamer</td>\n",
       "      <td>1985?</td>\n",
       "      <td>en</td>\n",
       "      <td>Kidnapped - I'm on my way somewhere else (by c...</td>\n",
       "      <td>2ISA, 2IOA, 1IOA, 1ISA, 2IKA, 2ISA, 2ISA</td>\n",
       "      <td>AN 1ISA, AN D, SD 2ISA, AN D</td>\n",
       "      <td>Q &gt; 2IKA, D &gt; 2ISA, D &gt; Q, 2IKA &gt; D, D &gt; Q, 1I...</td>\n",
       "      <td>NaN</td>\n",
       "      <td>...</td>\n",
       "      <td>0</td>\n",
       "      <td>0</td>\n",
       "      <td>0.142857143</td>\n",
       "      <td>0</td>\n",
       "      <td>0</td>\n",
       "      <td>1</td>\n",
       "      <td>1.571428571</td>\n",
       "      <td>0</td>\n",
       "      <td>0</td>\n",
       "      <td>1</td>\n",
       "    </tr>\n",
       "    <tr>\n",
       "      <th>7</th>\n",
       "      <td>8.0</td>\n",
       "      <td>alta</td>\n",
       "      <td>Alta: a detailed dreamer</td>\n",
       "      <td>1985?</td>\n",
       "      <td>en</td>\n",
       "      <td>I'm alone in an apartment - old place, inside ...</td>\n",
       "      <td>2ISA, 1ISA, 1ISA</td>\n",
       "      <td>AP D, SD D</td>\n",
       "      <td>D &gt; D, 1MSA &gt; D, 1MSA &gt; D, D &gt; 1MSA, D &gt; D, D ...</td>\n",
       "      <td>D 4&gt; D</td>\n",
       "      <td>...</td>\n",
       "      <td>0</td>\n",
       "      <td>0</td>\n",
       "      <td>0</td>\n",
       "      <td>0</td>\n",
       "      <td>0</td>\n",
       "      <td>0.888888889</td>\n",
       "      <td>2.666666667</td>\n",
       "      <td>0.333333333</td>\n",
       "      <td>0</td>\n",
       "      <td>1</td>\n",
       "    </tr>\n",
       "    <tr>\n",
       "      <th>8</th>\n",
       "      <td>9.0</td>\n",
       "      <td>alta</td>\n",
       "      <td>Alta: a detailed dreamer</td>\n",
       "      <td>1985?</td>\n",
       "      <td>en</td>\n",
       "      <td>I'm somewhere with a friend I don't want to be...</td>\n",
       "      <td>1IKA, stepfather, 1ISB, 1MSA</td>\n",
       "      <td>NaN</td>\n",
       "      <td>D &gt; Q</td>\n",
       "      <td>NaN</td>\n",
       "      <td>...</td>\n",
       "      <td>1</td>\n",
       "      <td>0</td>\n",
       "      <td>0.25</td>\n",
       "      <td>0</td>\n",
       "      <td>0</td>\n",
       "      <td>1</td>\n",
       "      <td>0.25</td>\n",
       "      <td>0</td>\n",
       "      <td>0</td>\n",
       "      <td>0</td>\n",
       "    </tr>\n",
       "    <tr>\n",
       "      <th>9</th>\n",
       "      <td>10.0</td>\n",
       "      <td>alta</td>\n",
       "      <td>Alta: a detailed dreamer</td>\n",
       "      <td>1985?</td>\n",
       "      <td>en</td>\n",
       "      <td>I am in some public place, reminds me of the g...</td>\n",
       "      <td>2ISA, 1MKA</td>\n",
       "      <td>NaN</td>\n",
       "      <td>NaN</td>\n",
       "      <td>NaN</td>\n",
       "      <td>...</td>\n",
       "      <td>1</td>\n",
       "      <td>0</td>\n",
       "      <td>0.5</td>\n",
       "      <td>0</td>\n",
       "      <td>0</td>\n",
       "      <td>0</td>\n",
       "      <td>0</td>\n",
       "      <td>0</td>\n",
       "      <td>0</td>\n",
       "      <td>0</td>\n",
       "    </tr>\n",
       "  </tbody>\n",
       "</table>\n",
       "<p>10 rows × 21 columns</p>\n",
       "</div>"
      ],
      "text/plain": [
       "   dream_id dreamer               description dream_date dream_language  \\\n",
       "0       1.0    alta  Alta: a detailed dreamer       1957             en   \n",
       "1       2.0    alta  Alta: a detailed dreamer    8/11/67             en   \n",
       "2       3.0    alta  Alta: a detailed dreamer     8/1/85             en   \n",
       "3       4.0    alta  Alta: a detailed dreamer      1985?             en   \n",
       "4       5.0    alta  Alta: a detailed dreamer      1985?             en   \n",
       "5       6.0    alta  Alta: a detailed dreamer      1985?             en   \n",
       "6       7.0    alta  Alta: a detailed dreamer      1985?             en   \n",
       "7       8.0    alta  Alta: a detailed dreamer      1985?             en   \n",
       "8       9.0    alta  Alta: a detailed dreamer      1985?             en   \n",
       "9      10.0    alta  Alta: a detailed dreamer      1985?             en   \n",
       "\n",
       "                                          text_dream  \\\n",
       "0  The one at the Meads's house, where it's bigge...   \n",
       "1  I'm at a family reunion in a large fine house ...   \n",
       "2  I watch a plane fly past and shortly realize i...   \n",
       "3  Me pulling the green leaves and berries off so...   \n",
       "4  I'm in a room that reminds me of (but definite...   \n",
       "5  Living next door to Loretta in an apartment - ...   \n",
       "6  Kidnapped - I'm on my way somewhere else (by c...   \n",
       "7  I'm alone in an apartment - old place, inside ...   \n",
       "8  I'm somewhere with a friend I don't want to be...   \n",
       "9  I am in some public place, reminds me of the g...   \n",
       "\n",
       "                                     characters_code  \\\n",
       "0                       2ISA, 1MKA, 1FDA, 1IOA, 2ISA   \n",
       "1                                 2ISA, people, 2ISA   \n",
       "2           2ISA, 2ISA, 1FSA, 1MBA, 1IOA, 2ISA, 2FDA   \n",
       "3  1MAA, 1FMA, 2ISA, 2IKA, 1ANI, 1ANI, 1IOA, 2ISA...   \n",
       "4                 1IRA, 1MSA, 1ISA, 2ISA, 1ISA, 1IKA   \n",
       "5                             1FSA, 2ISA, 1FDA, 1IIC   \n",
       "6           2ISA, 2IOA, 1IOA, 1ISA, 2IKA, 2ISA, 2ISA   \n",
       "7                                   2ISA, 1ISA, 1ISA   \n",
       "8                       1IKA, stepfather, 1ISB, 1MSA   \n",
       "9                                         2ISA, 1MKA   \n",
       "\n",
       "                           emotions_code  \\\n",
       "0                                    NaN   \n",
       "1                                SD 2IKA   \n",
       "2                    SD 1ISA, AP D, AP D   \n",
       "3                          SD 2ISA, SD D   \n",
       "4  AP D, AP D, AP 1MSA, CO D, SD D, AP D   \n",
       "5                                HA 1FSA   \n",
       "6           AN 1ISA, AN D, SD 2ISA, AN D   \n",
       "7                             AP D, SD D   \n",
       "8                                    NaN   \n",
       "9                                    NaN   \n",
       "\n",
       "                                     aggression_code        friendliness_code  \\\n",
       "0                                           2IKA > Q                2IKA 4> Q   \n",
       "1                                    D > Q, Q > 2ISA                      NaN   \n",
       "2                       It PRP >, It PRP >, D > 1FKA                      NaN   \n",
       "3                Q > Q, 2ISA > Q, 2ISA > Q, D > 1MSA  1IKA 4> Q, 2ISA 4> 2ISA   \n",
       "4  1MSA > D, Q > Q, D > 2IKA, D > 2IKA, D > 1MSA,...                   D 4> Q   \n",
       "5                                           D > 2IKA                      NaN   \n",
       "6  Q > 2IKA, D > 2ISA, D > Q, 2IKA > D, D > Q, 1I...                      NaN   \n",
       "7  D > D, 1MSA > D, 1MSA > D, D > 1MSA, D > D, D ...                   D 4> D   \n",
       "8                                              D > Q                      NaN   \n",
       "9                                                NaN                      NaN   \n",
       "\n",
       "   ...         Male       Animal      Friends       Family Dead&Imaginary  \\\n",
       "0  ...          0.5            0          0.2          0.2              0   \n",
       "1  ...            0            0            0            0              0   \n",
       "2  ...  0.333333333            0            0  0.285714286              0   \n",
       "3  ...  0.666666667  0.176470588  0.142857143  0.142857143              0   \n",
       "4  ...            1            0  0.166666667  0.166666667              0   \n",
       "5  ...            0            0            0          0.5              0   \n",
       "6  ...            0            0  0.142857143            0              0   \n",
       "7  ...            0            0            0            0              0   \n",
       "8  ...            1            0         0.25            0              0   \n",
       "9  ...            1            0          0.5            0              0   \n",
       "\n",
       "  Aggression/Friendliness     A/CIndex     F/CIndex S/CIndex NegativeEmotions  \n",
       "0                       0          0.2          0.2        0                0  \n",
       "1                       1  0.666666667            0        0                1  \n",
       "2                       1  0.428571429            0        0                1  \n",
       "3                       1  0.235294118  0.117647059        0                1  \n",
       "4                   0.875  1.333333333  0.166666667        0                1  \n",
       "5                       1         0.25            0        0                0  \n",
       "6                       1  1.571428571            0        0                1  \n",
       "7             0.888888889  2.666666667  0.333333333        0                1  \n",
       "8                       1         0.25            0        0                0  \n",
       "9                       0            0            0        0                0  \n",
       "\n",
       "[10 rows x 21 columns]"
      ]
     },
     "execution_count": 4,
     "metadata": {},
     "output_type": "execute_result"
    }
   ],
   "source": [
    "df_dreams = pd.read_csv('data/rsos_dream_data.csv')\n",
    "df_dreams.head(8)"
   ]
  },
  {
   "cell_type": "markdown",
   "id": "f948eb3d-98b7-4831-b2c5-c64283767492",
   "metadata": {},
   "source": [
    "# data cleaining steps:\n",
    "\n",
    "1. drop Null values (df.dropna())\n",
    "2. split columns on comma (to keep the first emotion) (df['column_name'].apply(lambda x: x.split(',')[0])\n",
    "2.5 you might have to remove trainling whitespaces df['col'].apply(lambda x: x.strip())\n",
    "3. check all the unique values in your column so you can verify all those emotion codes are valid df['column_name'].value_counts()\n",
    "4. "
   ]
  },
  {
   "cell_type": "code",
   "execution_count": 6,
   "id": "551fc544-4412-42f6-9385-ed2361d8d9b6",
   "metadata": {},
   "outputs": [
    {
     "data": {
      "text/html": [
       "<div>\n",
       "<style scoped>\n",
       "    .dataframe tbody tr th:only-of-type {\n",
       "        vertical-align: middle;\n",
       "    }\n",
       "\n",
       "    .dataframe tbody tr th {\n",
       "        vertical-align: top;\n",
       "    }\n",
       "\n",
       "    .dataframe thead th {\n",
       "        text-align: right;\n",
       "    }\n",
       "</style>\n",
       "<table border=\"1\" class=\"dataframe\">\n",
       "  <thead>\n",
       "    <tr style=\"text-align: right;\">\n",
       "      <th></th>\n",
       "      <th>dream_id</th>\n",
       "      <th>dreamer</th>\n",
       "      <th>description</th>\n",
       "      <th>dream_date</th>\n",
       "      <th>dream_language</th>\n",
       "      <th>text_dream</th>\n",
       "      <th>characters_code</th>\n",
       "      <th>emotions_code</th>\n",
       "      <th>aggression_code</th>\n",
       "      <th>friendliness_code</th>\n",
       "      <th>...</th>\n",
       "      <th>Male</th>\n",
       "      <th>Animal</th>\n",
       "      <th>Friends</th>\n",
       "      <th>Family</th>\n",
       "      <th>Dead&amp;Imaginary</th>\n",
       "      <th>Aggression/Friendliness</th>\n",
       "      <th>A/CIndex</th>\n",
       "      <th>F/CIndex</th>\n",
       "      <th>S/CIndex</th>\n",
       "      <th>NegativeEmotions</th>\n",
       "    </tr>\n",
       "  </thead>\n",
       "  <tbody>\n",
       "    <tr>\n",
       "      <th>24</th>\n",
       "      <td>25.0</td>\n",
       "      <td>alta</td>\n",
       "      <td>Alta: a detailed dreamer</td>\n",
       "      <td>1/22/86</td>\n",
       "      <td>en</td>\n",
       "      <td>I'm going down a walkway between little, close...</td>\n",
       "      <td>1ISA, 1ISA, 1ISA, 2ISA, 1FMA, 1MKA</td>\n",
       "      <td>CO 1IKA, AN D, HA 1MKA, SD D</td>\n",
       "      <td>D &gt; Q, D &gt; D, D &gt; 1MSA, D &gt; 1MSA, 1MSA &gt; 1MSA,...</td>\n",
       "      <td>D 4&gt; 2ISA, D 4&gt; 2ISA</td>\n",
       "      <td>...</td>\n",
       "      <td>0.5</td>\n",
       "      <td>0</td>\n",
       "      <td>0.166666667</td>\n",
       "      <td>0.166666667</td>\n",
       "      <td>0</td>\n",
       "      <td>0.714285714</td>\n",
       "      <td>1</td>\n",
       "      <td>0.333333333</td>\n",
       "      <td>0.166666667</td>\n",
       "      <td>0.75</td>\n",
       "    </tr>\n",
       "    <tr>\n",
       "      <th>46</th>\n",
       "      <td>48.0</td>\n",
       "      <td>alta</td>\n",
       "      <td>Alta: a detailed dreamer</td>\n",
       "      <td>2/20/86</td>\n",
       "      <td>en</td>\n",
       "      <td>I'm in a car with Dan, William Shatner, and so...</td>\n",
       "      <td>1ISA, William, 2ISA, 2ISA, 1FSA, 1FSA</td>\n",
       "      <td>AP 2ISA</td>\n",
       "      <td>D &gt; we, 2ISA &gt; 2IKA</td>\n",
       "      <td>D 4&gt; 2ISA, 2ISA 4&gt; D, D 4&gt; Q</td>\n",
       "      <td>...</td>\n",
       "      <td>0</td>\n",
       "      <td>0</td>\n",
       "      <td>0</td>\n",
       "      <td>0</td>\n",
       "      <td>0</td>\n",
       "      <td>0.25</td>\n",
       "      <td>0.333333333</td>\n",
       "      <td>0.5</td>\n",
       "      <td>0.333333333</td>\n",
       "      <td>1</td>\n",
       "    </tr>\n",
       "    <tr>\n",
       "      <th>54</th>\n",
       "      <td>56.0</td>\n",
       "      <td>alta</td>\n",
       "      <td>Alta: a detailed dreamer</td>\n",
       "      <td>2/26/86</td>\n",
       "      <td>en</td>\n",
       "      <td>I'm on a bus, sitting forward, with my shawl o...</td>\n",
       "      <td>1FDA, 1IOA, 1IIC, 2ISA, 1ISA, 1IHA, 2FSA, 1IOA...</td>\n",
       "      <td>CO D, AP 1FSA, AP 2ISA, AP 1FKA</td>\n",
       "      <td>1IIC &gt; 2IKA, D &gt; 1IKA</td>\n",
       "      <td>1FKA 4&gt; we</td>\n",
       "      <td>...</td>\n",
       "      <td>0</td>\n",
       "      <td>0</td>\n",
       "      <td>0</td>\n",
       "      <td>0.333333333</td>\n",
       "      <td>0</td>\n",
       "      <td>1</td>\n",
       "      <td>0.222222222</td>\n",
       "      <td>0.111111111</td>\n",
       "      <td>0.111111111</td>\n",
       "      <td>1</td>\n",
       "    </tr>\n",
       "    <tr>\n",
       "      <th>65</th>\n",
       "      <td>67.0</td>\n",
       "      <td>alta</td>\n",
       "      <td>Alta: a detailed dreamer</td>\n",
       "      <td>3/13/86</td>\n",
       "      <td>en</td>\n",
       "      <td>I have been in this place before, a flea-marke...</td>\n",
       "      <td>craftsman, 1ISA, 2ISA, 2MKA, 2ISA</td>\n",
       "      <td>AN 2ISA</td>\n",
       "      <td>2ISA 1&gt; Q</td>\n",
       "      <td>D 4&gt; D</td>\n",
       "      <td>...</td>\n",
       "      <td>1</td>\n",
       "      <td>0</td>\n",
       "      <td>0.2</td>\n",
       "      <td>0</td>\n",
       "      <td>0</td>\n",
       "      <td>0</td>\n",
       "      <td>0.2</td>\n",
       "      <td>0.2</td>\n",
       "      <td>0.2</td>\n",
       "      <td>1</td>\n",
       "    </tr>\n",
       "    <tr>\n",
       "      <th>69</th>\n",
       "      <td>71.0</td>\n",
       "      <td>alta</td>\n",
       "      <td>Alta: a detailed dreamer</td>\n",
       "      <td>3/15/86</td>\n",
       "      <td>en</td>\n",
       "      <td>I'm in a room in an old building, maybe a scho...</td>\n",
       "      <td>2ISA, 2ISA, 1ISA, 2IKA, 1FDA, 1ISA, 1ISA</td>\n",
       "      <td>AP D, HA D</td>\n",
       "      <td>D &gt; Q, D &gt; Q, D &gt; Q, D &gt; Q</td>\n",
       "      <td>1IKA 4&gt; Q</td>\n",
       "      <td>...</td>\n",
       "      <td>0</td>\n",
       "      <td>0</td>\n",
       "      <td>0.142857143</td>\n",
       "      <td>0.142857143</td>\n",
       "      <td>0</td>\n",
       "      <td>1</td>\n",
       "      <td>0.571428571</td>\n",
       "      <td>0.142857143</td>\n",
       "      <td>0.285714286</td>\n",
       "      <td>0.5</td>\n",
       "    </tr>\n",
       "    <tr>\n",
       "      <th>...</th>\n",
       "      <td>...</td>\n",
       "      <td>...</td>\n",
       "      <td>...</td>\n",
       "      <td>...</td>\n",
       "      <td>...</td>\n",
       "      <td>...</td>\n",
       "      <td>...</td>\n",
       "      <td>...</td>\n",
       "      <td>...</td>\n",
       "      <td>...</td>\n",
       "      <td>...</td>\n",
       "      <td>...</td>\n",
       "      <td>...</td>\n",
       "      <td>...</td>\n",
       "      <td>...</td>\n",
       "      <td>...</td>\n",
       "      <td>...</td>\n",
       "      <td>...</td>\n",
       "      <td>...</td>\n",
       "      <td>...</td>\n",
       "      <td>...</td>\n",
       "    </tr>\n",
       "    <tr>\n",
       "      <th>20948</th>\n",
       "      <td>33014.0</td>\n",
       "      <td>west_coast_teens</td>\n",
       "      <td>West Coast teenage girls</td>\n",
       "      <td>F, age 14</td>\n",
       "      <td>en</td>\n",
       "      <td>I was at a fairground on a sunny day in the pa...</td>\n",
       "      <td>1MKA, 1MAA, 2ISA</td>\n",
       "      <td>HA D, HA D</td>\n",
       "      <td>1MKA &gt; us, 1MSA &gt; D, D &gt; 1MKA, D &gt; 1MKA, 1MSA &gt; D</td>\n",
       "      <td>1MSA 4&gt; D</td>\n",
       "      <td>...</td>\n",
       "      <td>1</td>\n",
       "      <td>0</td>\n",
       "      <td>0.333333333</td>\n",
       "      <td>0.333333333</td>\n",
       "      <td>0</td>\n",
       "      <td>0.8</td>\n",
       "      <td>1.666666667</td>\n",
       "      <td>0.333333333</td>\n",
       "      <td>0.333333333</td>\n",
       "      <td>0</td>\n",
       "    </tr>\n",
       "    <tr>\n",
       "      <th>20958</th>\n",
       "      <td>33025.0</td>\n",
       "      <td>west_coast_teens</td>\n",
       "      <td>West Coast teenage girls</td>\n",
       "      <td>F, age 16</td>\n",
       "      <td>en</td>\n",
       "      <td>I was driving in a car with a girl whom I disl...</td>\n",
       "      <td>1FSA, 2ISA, 1ISA, 1ISA, 2ISA, 1FSA</td>\n",
       "      <td>AN D</td>\n",
       "      <td>1FSA &gt; D, D &gt; 1FSA, D &gt; D, 1MSA &gt; D, D &gt; 1MSA,...</td>\n",
       "      <td>D 4&gt; Q, D 4&gt; him, D 4&gt; 1FKA, 1MSA 4&gt; D</td>\n",
       "      <td>...</td>\n",
       "      <td>0</td>\n",
       "      <td>0</td>\n",
       "      <td>0</td>\n",
       "      <td>0</td>\n",
       "      <td>0</td>\n",
       "      <td>0.6</td>\n",
       "      <td>1</td>\n",
       "      <td>0.666666667</td>\n",
       "      <td>0.333333333</td>\n",
       "      <td>1</td>\n",
       "    </tr>\n",
       "    <tr>\n",
       "      <th>20959</th>\n",
       "      <td>33026.0</td>\n",
       "      <td>west_coast_teens</td>\n",
       "      <td>West Coast teenage girls</td>\n",
       "      <td>F, age 16</td>\n",
       "      <td>en</td>\n",
       "      <td>I was in the grocery store, wandering up and d...</td>\n",
       "      <td>1FSA, 2ISA, 1ISA, 1ISA, 2ISA, 1FSA, 1ISA, 2IKA</td>\n",
       "      <td>CO 1IKA, AP D</td>\n",
       "      <td>D &gt; Q, D &gt; PRP, D &gt; PRP, D &gt; 2ISA, D &gt; Q</td>\n",
       "      <td>1MSA 4&gt; D, D 4&gt; D, 1IKA 4&gt; Q</td>\n",
       "      <td>...</td>\n",
       "      <td>0</td>\n",
       "      <td>0</td>\n",
       "      <td>0.125</td>\n",
       "      <td>0</td>\n",
       "      <td>0</td>\n",
       "      <td>0.714285714</td>\n",
       "      <td>0.625</td>\n",
       "      <td>0.375</td>\n",
       "      <td>0.125</td>\n",
       "      <td>1</td>\n",
       "    </tr>\n",
       "    <tr>\n",
       "      <th>20988</th>\n",
       "      <td>33055.0</td>\n",
       "      <td>west_coast_teens</td>\n",
       "      <td>West Coast teenage girls</td>\n",
       "      <td>F, age 17</td>\n",
       "      <td>en</td>\n",
       "      <td>I had a dream that I was going to college. I w...</td>\n",
       "      <td>2ISA, everyone, 1FMA, 2ISA, 1IKA, 1IOA</td>\n",
       "      <td>SD D</td>\n",
       "      <td>D &gt; 2IKA</td>\n",
       "      <td>D 4&gt; 2IKA, Q 4&gt; Q, D 4&gt; 2IKA</td>\n",
       "      <td>...</td>\n",
       "      <td>0</td>\n",
       "      <td>0</td>\n",
       "      <td>0.166666667</td>\n",
       "      <td>0.166666667</td>\n",
       "      <td>0</td>\n",
       "      <td>0.333333333</td>\n",
       "      <td>0.166666667</td>\n",
       "      <td>0.5</td>\n",
       "      <td>0.166666667</td>\n",
       "      <td>1</td>\n",
       "    </tr>\n",
       "    <tr>\n",
       "      <th>20999</th>\n",
       "      <td>33066.0</td>\n",
       "      <td>west_coast_teens</td>\n",
       "      <td>West Coast teenage girls</td>\n",
       "      <td>F, age 18</td>\n",
       "      <td>en</td>\n",
       "      <td>I felt scared. I was pregnant in my dream. The...</td>\n",
       "      <td>2IKA, 1FMA, 1ISA, 1MFA</td>\n",
       "      <td>AP D, AP D</td>\n",
       "      <td>2IKA &gt; us, 2ISA &gt; D, 2IKA &gt; us</td>\n",
       "      <td>2ISA 4&gt; D</td>\n",
       "      <td>...</td>\n",
       "      <td>0.5</td>\n",
       "      <td>0</td>\n",
       "      <td>0.25</td>\n",
       "      <td>0.5</td>\n",
       "      <td>0</td>\n",
       "      <td>0.5</td>\n",
       "      <td>0.75</td>\n",
       "      <td>0.25</td>\n",
       "      <td>0.5</td>\n",
       "      <td>1</td>\n",
       "    </tr>\n",
       "  </tbody>\n",
       "</table>\n",
       "<p>3104 rows × 21 columns</p>\n",
       "</div>"
      ],
      "text/plain": [
       "       dream_id           dreamer               description dream_date  \\\n",
       "24         25.0              alta  Alta: a detailed dreamer    1/22/86   \n",
       "46         48.0              alta  Alta: a detailed dreamer    2/20/86   \n",
       "54         56.0              alta  Alta: a detailed dreamer    2/26/86   \n",
       "65         67.0              alta  Alta: a detailed dreamer    3/13/86   \n",
       "69         71.0              alta  Alta: a detailed dreamer    3/15/86   \n",
       "...         ...               ...                       ...        ...   \n",
       "20948   33014.0  west_coast_teens  West Coast teenage girls  F, age 14   \n",
       "20958   33025.0  west_coast_teens  West Coast teenage girls  F, age 16   \n",
       "20959   33026.0  west_coast_teens  West Coast teenage girls  F, age 16   \n",
       "20988   33055.0  west_coast_teens  West Coast teenage girls  F, age 17   \n",
       "20999   33066.0  west_coast_teens  West Coast teenage girls  F, age 18   \n",
       "\n",
       "      dream_language                                         text_dream  \\\n",
       "24                en  I'm going down a walkway between little, close...   \n",
       "46                en  I'm in a car with Dan, William Shatner, and so...   \n",
       "54                en  I'm on a bus, sitting forward, with my shawl o...   \n",
       "65                en  I have been in this place before, a flea-marke...   \n",
       "69                en  I'm in a room in an old building, maybe a scho...   \n",
       "...              ...                                                ...   \n",
       "20948             en  I was at a fairground on a sunny day in the pa...   \n",
       "20958             en  I was driving in a car with a girl whom I disl...   \n",
       "20959             en  I was in the grocery store, wandering up and d...   \n",
       "20988             en  I had a dream that I was going to college. I w...   \n",
       "20999             en  I felt scared. I was pregnant in my dream. The...   \n",
       "\n",
       "                                         characters_code  \\\n",
       "24                    1ISA, 1ISA, 1ISA, 2ISA, 1FMA, 1MKA   \n",
       "46                 1ISA, William, 2ISA, 2ISA, 1FSA, 1FSA   \n",
       "54     1FDA, 1IOA, 1IIC, 2ISA, 1ISA, 1IHA, 2FSA, 1IOA...   \n",
       "65                     craftsman, 1ISA, 2ISA, 2MKA, 2ISA   \n",
       "69              2ISA, 2ISA, 1ISA, 2IKA, 1FDA, 1ISA, 1ISA   \n",
       "...                                                  ...   \n",
       "20948                                   1MKA, 1MAA, 2ISA   \n",
       "20958                 1FSA, 2ISA, 1ISA, 1ISA, 2ISA, 1FSA   \n",
       "20959     1FSA, 2ISA, 1ISA, 1ISA, 2ISA, 1FSA, 1ISA, 2IKA   \n",
       "20988             2ISA, everyone, 1FMA, 2ISA, 1IKA, 1IOA   \n",
       "20999                             2IKA, 1FMA, 1ISA, 1MFA   \n",
       "\n",
       "                         emotions_code  \\\n",
       "24        CO 1IKA, AN D, HA 1MKA, SD D   \n",
       "46                             AP 2ISA   \n",
       "54     CO D, AP 1FSA, AP 2ISA, AP 1FKA   \n",
       "65                             AN 2ISA   \n",
       "69                          AP D, HA D   \n",
       "...                                ...   \n",
       "20948                       HA D, HA D   \n",
       "20958                             AN D   \n",
       "20959                    CO 1IKA, AP D   \n",
       "20988                             SD D   \n",
       "20999                       AP D, AP D   \n",
       "\n",
       "                                         aggression_code  \\\n",
       "24     D > Q, D > D, D > 1MSA, D > 1MSA, 1MSA > 1MSA,...   \n",
       "46                                   D > we, 2ISA > 2IKA   \n",
       "54                                 1IIC > 2IKA, D > 1IKA   \n",
       "65                                             2ISA 1> Q   \n",
       "69                            D > Q, D > Q, D > Q, D > Q   \n",
       "...                                                  ...   \n",
       "20948  1MKA > us, 1MSA > D, D > 1MKA, D > 1MKA, 1MSA > D   \n",
       "20958  1FSA > D, D > 1FSA, D > D, 1MSA > D, D > 1MSA,...   \n",
       "20959           D > Q, D > PRP, D > PRP, D > 2ISA, D > Q   \n",
       "20988                                           D > 2IKA   \n",
       "20999                     2IKA > us, 2ISA > D, 2IKA > us   \n",
       "\n",
       "                            friendliness_code  ... Male Animal      Friends  \\\n",
       "24                       D 4> 2ISA, D 4> 2ISA  ...  0.5      0  0.166666667   \n",
       "46               D 4> 2ISA, 2ISA 4> D, D 4> Q  ...    0      0            0   \n",
       "54                                 1FKA 4> we  ...    0      0            0   \n",
       "65                                     D 4> D  ...    1      0          0.2   \n",
       "69                                  1IKA 4> Q  ...    0      0  0.142857143   \n",
       "...                                       ...  ...  ...    ...          ...   \n",
       "20948                               1MSA 4> D  ...    1      0  0.333333333   \n",
       "20958  D 4> Q, D 4> him, D 4> 1FKA, 1MSA 4> D  ...    0      0            0   \n",
       "20959            1MSA 4> D, D 4> D, 1IKA 4> Q  ...    0      0        0.125   \n",
       "20988            D 4> 2IKA, Q 4> Q, D 4> 2IKA  ...    0      0  0.166666667   \n",
       "20999                               2ISA 4> D  ...  0.5      0         0.25   \n",
       "\n",
       "            Family Dead&Imaginary Aggression/Friendliness     A/CIndex  \\\n",
       "24     0.166666667              0             0.714285714            1   \n",
       "46               0              0                    0.25  0.333333333   \n",
       "54     0.333333333              0                       1  0.222222222   \n",
       "65               0              0                       0          0.2   \n",
       "69     0.142857143              0                       1  0.571428571   \n",
       "...            ...            ...                     ...          ...   \n",
       "20948  0.333333333              0                     0.8  1.666666667   \n",
       "20958            0              0                     0.6            1   \n",
       "20959            0              0             0.714285714        0.625   \n",
       "20988  0.166666667              0             0.333333333  0.166666667   \n",
       "20999          0.5              0                     0.5         0.75   \n",
       "\n",
       "          F/CIndex     S/CIndex NegativeEmotions  \n",
       "24     0.333333333  0.166666667             0.75  \n",
       "46             0.5  0.333333333                1  \n",
       "54     0.111111111  0.111111111                1  \n",
       "65             0.2          0.2                1  \n",
       "69     0.142857143  0.285714286              0.5  \n",
       "...            ...          ...              ...  \n",
       "20948  0.333333333  0.333333333                0  \n",
       "20958  0.666666667  0.333333333                1  \n",
       "20959        0.375        0.125                1  \n",
       "20988          0.5  0.166666667                1  \n",
       "20999         0.25          0.5                1  \n",
       "\n",
       "[3104 rows x 21 columns]"
      ]
     },
     "execution_count": 6,
     "metadata": {},
     "output_type": "execute_result"
    }
   ],
   "source": [
    "df_dreams.dropna()"
   ]
  },
  {
   "cell_type": "markdown",
   "id": "0be6514f-2679-4605-889e-74d89fc8f5f4",
   "metadata": {},
   "source": [
    "#### Splitting emotions_code column to keep only the first emotion code."
   ]
  },
  {
   "cell_type": "code",
   "execution_count": 11,
   "id": "ddeced96-3e65-4aba-b159-9ebb343c8fbf",
   "metadata": {},
   "outputs": [],
   "source": [
    "new = df_dreams['emotions_code'].str.split(\" \", n = 1, expand = True)"
   ]
  },
  {
   "cell_type": "code",
   "execution_count": 13,
   "id": "8a34aac6-0dfe-4264-9cd0-a7894f6d46c1",
   "metadata": {},
   "outputs": [],
   "source": [
    "df_dreams[\"emotion_code\"]= new[0]"
   ]
  },
  {
   "cell_type": "code",
   "execution_count": 15,
   "id": "2e01a271-685e-445e-ac9e-64bd33f17e69",
   "metadata": {},
   "outputs": [],
   "source": [
    "df_dreams[\"emotion_code_tail\"]= new[1]"
   ]
  },
  {
   "cell_type": "code",
   "execution_count": 16,
   "id": "cb4e2cc0-e995-4e47-81f3-ce78b72620ea",
   "metadata": {},
   "outputs": [],
   "source": [
    "df_dreams.drop(columns =[\"emotions_code\"], inplace = True)"
   ]
  },
  {
   "cell_type": "code",
   "execution_count": 22,
   "id": "488537d1-c58b-49e4-8972-f5b250c2845f",
   "metadata": {},
   "outputs": [
    {
     "data": {
      "text/plain": [
       "AP             3503\n",
       "HA             2161\n",
       "AN             2117\n",
       "CO             1682\n",
       "SD             1612\n",
       "AP1IKA,           2\n",
       "CO1IKA,           2\n",
       "AP1IKA            2\n",
       "MAN1MKA           1\n",
       "CO1IKA            1\n",
       "WOMAN2IDA         1\n",
       "INDIAN1IEA        1\n",
       "REAGAN1IKA,       1\n",
       "Name: emotion_code, dtype: int64"
      ]
     },
     "execution_count": 22,
     "metadata": {},
     "output_type": "execute_result"
    }
   ],
   "source": [
    "df_dreams[\"emotion_code\"].value_counts()"
   ]
  },
  {
   "cell_type": "code",
   "execution_count": 24,
   "id": "2d1e9b49-31f6-4be2-82a2-943c76148d7e",
   "metadata": {},
   "outputs": [
    {
     "name": "stdout",
     "output_type": "stream",
     "text": [
      "{'AP': 'Apprehension', 'HA': 'Happiness', 'AN': 'Anger', 'CO': 'Confusion', 'SD': 'Sadness'}\n"
     ]
    }
   ],
   "source": [
    "code_definition = {\n",
    "    'AP': 'Apprehension',\n",
    "    'HA': 'Happiness',\n",
    "    'AN': 'Anger',\n",
    "    'CO': 'Confusion',\n",
    "    'SD': 'Sadness'\n",
    "}\n",
    "\n",
    "print(code_definition)"
   ]
  },
  {
   "cell_type": "code",
   "execution_count": 5,
   "id": "73fa0476-4994-47df-ab0b-f9c30638eec5",
   "metadata": {},
   "outputs": [
    {
     "name": "stdout",
     "output_type": "stream",
     "text": [
      "<class 'pandas.core.frame.DataFrame'>\n",
      "RangeIndex: 21001 entries, 0 to 21000\n",
      "Data columns (total 21 columns):\n",
      " #   Column                   Non-Null Count  Dtype  \n",
      "---  ------                   --------------  -----  \n",
      " 0   dream_id                 21000 non-null  float64\n",
      " 1   dreamer                  21000 non-null  object \n",
      " 2   description              21000 non-null  object \n",
      " 3   dream_date               21000 non-null  object \n",
      " 4   dream_language           21000 non-null  object \n",
      " 5   text_dream               21000 non-null  object \n",
      " 6   characters_code          20532 non-null  object \n",
      " 7   emotions_code            11086 non-null  object \n",
      " 8   aggression_code          15432 non-null  object \n",
      " 9   friendliness_code        11239 non-null  object \n",
      " 10  sexuality_code           6470 non-null   object \n",
      " 11  Male                     21001 non-null  object \n",
      " 12  Animal                   21001 non-null  object \n",
      " 13  Friends                  21001 non-null  object \n",
      " 14  Family                   21001 non-null  object \n",
      " 15  Dead&Imaginary           21001 non-null  object \n",
      " 16  Aggression/Friendliness  21001 non-null  object \n",
      " 17  A/CIndex                 21001 non-null  object \n",
      " 18  F/CIndex                 21001 non-null  object \n",
      " 19  S/CIndex                 21001 non-null  object \n",
      " 20  NegativeEmotions         21001 non-null  object \n",
      "dtypes: float64(1), object(20)\n",
      "memory usage: 3.4+ MB\n"
     ]
    }
   ],
   "source": [
    "df_dreams.info()"
   ]
  },
  {
   "cell_type": "code",
   "execution_count": 26,
   "id": "0e67f071-1dc0-48ac-855c-6033c6fa6201",
   "metadata": {},
   "outputs": [
    {
     "ename": "TypeError",
     "evalue": "'DataFrame' object is not callable",
     "output_type": "error",
     "traceback": [
      "\u001b[0;31m---------------------------------------------------------------------------\u001b[0m",
      "\u001b[0;31mTypeError\u001b[0m                                 Traceback (most recent call last)",
      "Input \u001b[0;32mIn [26]\u001b[0m, in \u001b[0;36m<cell line: 1>\u001b[0;34m()\u001b[0m\n\u001b[0;32m----> 1\u001b[0m emo_train \u001b[38;5;241m=\u001b[39m \u001b[43mdf_dreams\u001b[49m\u001b[43m(\u001b[49m\u001b[43msubset\u001b[49m\u001b[38;5;241;43m=\u001b[39;49m\u001b[38;5;124;43m'\u001b[39;49m\u001b[38;5;124;43mtrain\u001b[39;49m\u001b[38;5;124;43m'\u001b[39;49m\u001b[43m,\u001b[49m\n\u001b[1;32m      2\u001b[0m \u001b[43m     \u001b[49m\u001b[43mcategories\u001b[49m\u001b[38;5;241;43m=\u001b[39;49m\u001b[43mcode_definition\u001b[49m\u001b[43m,\u001b[49m\u001b[43m \u001b[49m\u001b[43mshuffle\u001b[49m\u001b[38;5;241;43m=\u001b[39;49m\u001b[38;5;28;43;01mTrue\u001b[39;49;00m\u001b[43m,\u001b[49m\u001b[43m \u001b[49m\u001b[43mrandom_state\u001b[49m\u001b[38;5;241;43m=\u001b[39;49m\u001b[38;5;241;43m42\u001b[39;49m\u001b[43m)\u001b[49m\n",
      "\u001b[0;31mTypeError\u001b[0m: 'DataFrame' object is not callable"
     ]
    }
   ],
   "source": [
    "#emo_train = df_dreams(subset='train',\n",
    "     #categories=code_definition, shuffle=True, random_state=42)"
   ]
  },
  {
   "cell_type": "code",
   "execution_count": null,
   "id": "dd9f6af5-ec50-4903-81ca-ee3e5ebeedcd",
   "metadata": {},
   "outputs": [],
   "source": [
    "#emo_train.target_names"
   ]
  },
  {
   "cell_type": "code",
   "execution_count": null,
   "id": "06b69477-59af-4973-b969-e03581de1964",
   "metadata": {},
   "outputs": [],
   "source": [
    "#len(twenty_train.data)\n",
    "\n",
    "#len(twenty_train.filenames)"
   ]
  },
  {
   "cell_type": "code",
   "execution_count": null,
   "id": "d4f2fef8-5b3a-4fa0-b1ab-2d90af22e8c2",
   "metadata": {},
   "outputs": [],
   "source": [
    "#print(\"\\n\".join(twenty_train.data[0].split(\"\\n\")[:3]))"
   ]
  },
  {
   "cell_type": "code",
   "execution_count": null,
   "id": "8c02122e-fe9b-4136-9062-ae4625672ab6",
   "metadata": {},
   "outputs": [],
   "source": [
    "#print(twenty_train.target_names[twenty_train.target[0]])"
   ]
  },
  {
   "cell_type": "code",
   "execution_count": null,
   "id": "cf243760-67ad-4dad-a32d-8e7d4c3d0012",
   "metadata": {},
   "outputs": [],
   "source": [
    "#twenty_train.target[:10]"
   ]
  },
  {
   "cell_type": "code",
   "execution_count": null,
   "id": "ea2c6250-6348-4d7e-b142-e4e2e9e36893",
   "metadata": {},
   "outputs": [],
   "source": [
    "#for t in twenty_train.target[:10]:\n",
    "    #print(twenty_train.target_names[t])"
   ]
  },
  {
   "cell_type": "code",
   "execution_count": 35,
   "id": "14a851a6-b6eb-4955-ab4b-ea4f73f7ffa9",
   "metadata": {},
   "outputs": [
    {
     "data": {
      "text/plain": [
       "0        the one at the meads's house, where it's bigge...\n",
       "1        i'm at a family reunion in a large fine house ...\n",
       "2        i watch a plane fly past and shortly realize i...\n",
       "3        me pulling the green leaves and berries off so...\n",
       "4        i'm in a room that reminds me of (but definite...\n",
       "                               ...                        \n",
       "20996    two weeks ago this guy asked me to senior ball...\n",
       "20997    my boyfriend just broke up with me so he was o...\n",
       "20998    i was in my backyard and i was flying. i would...\n",
       "20999    i felt scared. i was pregnant in my dream. the...\n",
       "21000                                                  NaN\n",
       "Name: text_dream, Length: 21001, dtype: object"
      ]
     },
     "execution_count": 35,
     "metadata": {},
     "output_type": "execute_result"
    }
   ],
   "source": [
    "df_dreams['text_dream'].str.lower()"
   ]
  },
  {
   "cell_type": "code",
   "execution_count": 39,
   "id": "4137ef24-ba30-4434-a0b8-3c6834ca7b4b",
   "metadata": {},
   "outputs": [],
   "source": [
    "df_dreams = df_dreams[df_dreams['text_dream'].notna()]"
   ]
  },
  {
   "cell_type": "code",
   "execution_count": 43,
   "id": "83ff3678-1fd4-4cac-9a71-e296ad9ee6a3",
   "metadata": {},
   "outputs": [
    {
     "data": {
      "text/html": [
       "<div>\n",
       "<style scoped>\n",
       "    .dataframe tbody tr th:only-of-type {\n",
       "        vertical-align: middle;\n",
       "    }\n",
       "\n",
       "    .dataframe tbody tr th {\n",
       "        vertical-align: top;\n",
       "    }\n",
       "\n",
       "    .dataframe thead th {\n",
       "        text-align: right;\n",
       "    }\n",
       "</style>\n",
       "<table border=\"1\" class=\"dataframe\">\n",
       "  <thead>\n",
       "    <tr style=\"text-align: right;\">\n",
       "      <th></th>\n",
       "      <th>dream_id</th>\n",
       "      <th>dreamer</th>\n",
       "      <th>description</th>\n",
       "      <th>dream_date</th>\n",
       "      <th>dream_language</th>\n",
       "      <th>text_dream</th>\n",
       "      <th>characters_code</th>\n",
       "      <th>aggression_code</th>\n",
       "      <th>friendliness_code</th>\n",
       "      <th>sexuality_code</th>\n",
       "      <th>...</th>\n",
       "      <th>Friends</th>\n",
       "      <th>Family</th>\n",
       "      <th>Dead&amp;Imaginary</th>\n",
       "      <th>Aggression/Friendliness</th>\n",
       "      <th>A/CIndex</th>\n",
       "      <th>F/CIndex</th>\n",
       "      <th>S/CIndex</th>\n",
       "      <th>NegativeEmotions</th>\n",
       "      <th>emotion_code</th>\n",
       "      <th>emotion_code_tail</th>\n",
       "    </tr>\n",
       "  </thead>\n",
       "  <tbody>\n",
       "  </tbody>\n",
       "</table>\n",
       "<p>0 rows × 22 columns</p>\n",
       "</div>"
      ],
      "text/plain": [
       "Empty DataFrame\n",
       "Columns: [dream_id, dreamer, description, dream_date, dream_language, text_dream, characters_code, aggression_code, friendliness_code, sexuality_code, Male, Animal, Friends, Family, Dead&Imaginary, Aggression/Friendliness, A/CIndex, F/CIndex, S/CIndex, NegativeEmotions, emotion_code, emotion_code_tail]\n",
       "Index: []\n",
       "\n",
       "[0 rows x 22 columns]"
      ]
     },
     "execution_count": 43,
     "metadata": {},
     "output_type": "execute_result"
    }
   ],
   "source": [
    "##df_dreams.isnull()"
   ]
  },
  {
   "cell_type": "code",
   "execution_count": 45,
   "id": "9811ffb1-0abf-47e9-bb0b-c5fe80dece0a",
   "metadata": {},
   "outputs": [
    {
     "data": {
      "text/plain": [
       "<bound method DataFrame.info of Empty DataFrame\n",
       "Columns: [dream_id, dreamer, description, dream_date, dream_language, text_dream, characters_code, aggression_code, friendliness_code, sexuality_code, Male, Animal, Friends, Family, Dead&Imaginary, Aggression/Friendliness, A/CIndex, F/CIndex, S/CIndex, NegativeEmotions, emotion_code, emotion_code_tail]\n",
       "Index: []\n",
       "\n",
       "[0 rows x 22 columns]>"
      ]
     },
     "execution_count": 45,
     "metadata": {},
     "output_type": "execute_result"
    }
   ],
   "source": [
    "df_dreams.info"
   ]
  },
  {
   "cell_type": "code",
   "execution_count": null,
   "id": "497fe865-06d3-49ba-841c-ff69fd675c48",
   "metadata": {},
   "outputs": [],
   "source": [
    "dream_text = df_dreams['text_dream']\n",
    "print(dream_text)"
   ]
  },
  {
   "cell_type": "markdown",
   "id": "1ca6d149-e7dd-45ad-82d8-41b989691968",
   "metadata": {},
   "source": [
    "### Tokenizing text with scikit-learn"
   ]
  },
  {
   "cell_type": "code",
   "execution_count": 30,
   "id": "ebaf9272-02de-4485-9672-c1810607afa2",
   "metadata": {},
   "outputs": [
    {
     "ename": "ValueError",
     "evalue": "np.nan is an invalid document, expected byte or unicode string.",
     "output_type": "error",
     "traceback": [
      "\u001b[0;31m---------------------------------------------------------------------------\u001b[0m",
      "\u001b[0;31mValueError\u001b[0m                                Traceback (most recent call last)",
      "Input \u001b[0;32mIn [30]\u001b[0m, in \u001b[0;36m<cell line: 3>\u001b[0;34m()\u001b[0m\n\u001b[1;32m      1\u001b[0m \u001b[38;5;28;01mfrom\u001b[39;00m \u001b[38;5;21;01msklearn\u001b[39;00m\u001b[38;5;21;01m.\u001b[39;00m\u001b[38;5;21;01mfeature_extraction\u001b[39;00m\u001b[38;5;21;01m.\u001b[39;00m\u001b[38;5;21;01mtext\u001b[39;00m \u001b[38;5;28;01mimport\u001b[39;00m CountVectorizer\n\u001b[1;32m      2\u001b[0m count_vect \u001b[38;5;241m=\u001b[39m CountVectorizer()\n\u001b[0;32m----> 3\u001b[0m X_train_counts \u001b[38;5;241m=\u001b[39m \u001b[43mcount_vect\u001b[49m\u001b[38;5;241;43m.\u001b[39;49m\u001b[43mfit_transform\u001b[49m\u001b[43m(\u001b[49m\u001b[43mdream_text\u001b[49m\u001b[43m)\u001b[49m\n\u001b[1;32m      4\u001b[0m X_train_counts\u001b[38;5;241m.\u001b[39mshape\n",
      "File \u001b[0;32m~/opt/anaconda3/lib/python3.9/site-packages/sklearn/feature_extraction/text.py:1330\u001b[0m, in \u001b[0;36mCountVectorizer.fit_transform\u001b[0;34m(self, raw_documents, y)\u001b[0m\n\u001b[1;32m   1322\u001b[0m             warnings\u001b[38;5;241m.\u001b[39mwarn(\n\u001b[1;32m   1323\u001b[0m                 \u001b[38;5;124m\"\u001b[39m\u001b[38;5;124mUpper case characters found in\u001b[39m\u001b[38;5;124m\"\u001b[39m\n\u001b[1;32m   1324\u001b[0m                 \u001b[38;5;124m\"\u001b[39m\u001b[38;5;124m vocabulary while \u001b[39m\u001b[38;5;124m'\u001b[39m\u001b[38;5;124mlowercase\u001b[39m\u001b[38;5;124m'\u001b[39m\u001b[38;5;124m\"\u001b[39m\n\u001b[1;32m   1325\u001b[0m                 \u001b[38;5;124m\"\u001b[39m\u001b[38;5;124m is True. These entries will not\u001b[39m\u001b[38;5;124m\"\u001b[39m\n\u001b[1;32m   1326\u001b[0m                 \u001b[38;5;124m\"\u001b[39m\u001b[38;5;124m be matched with any documents\u001b[39m\u001b[38;5;124m\"\u001b[39m\n\u001b[1;32m   1327\u001b[0m             )\n\u001b[1;32m   1328\u001b[0m             \u001b[38;5;28;01mbreak\u001b[39;00m\n\u001b[0;32m-> 1330\u001b[0m vocabulary, X \u001b[38;5;241m=\u001b[39m \u001b[38;5;28;43mself\u001b[39;49m\u001b[38;5;241;43m.\u001b[39;49m\u001b[43m_count_vocab\u001b[49m\u001b[43m(\u001b[49m\u001b[43mraw_documents\u001b[49m\u001b[43m,\u001b[49m\u001b[43m \u001b[49m\u001b[38;5;28;43mself\u001b[39;49m\u001b[38;5;241;43m.\u001b[39;49m\u001b[43mfixed_vocabulary_\u001b[49m\u001b[43m)\u001b[49m\n\u001b[1;32m   1332\u001b[0m \u001b[38;5;28;01mif\u001b[39;00m \u001b[38;5;28mself\u001b[39m\u001b[38;5;241m.\u001b[39mbinary:\n\u001b[1;32m   1333\u001b[0m     X\u001b[38;5;241m.\u001b[39mdata\u001b[38;5;241m.\u001b[39mfill(\u001b[38;5;241m1\u001b[39m)\n",
      "File \u001b[0;32m~/opt/anaconda3/lib/python3.9/site-packages/sklearn/feature_extraction/text.py:1201\u001b[0m, in \u001b[0;36mCountVectorizer._count_vocab\u001b[0;34m(self, raw_documents, fixed_vocab)\u001b[0m\n\u001b[1;32m   1199\u001b[0m \u001b[38;5;28;01mfor\u001b[39;00m doc \u001b[38;5;129;01min\u001b[39;00m raw_documents:\n\u001b[1;32m   1200\u001b[0m     feature_counter \u001b[38;5;241m=\u001b[39m {}\n\u001b[0;32m-> 1201\u001b[0m     \u001b[38;5;28;01mfor\u001b[39;00m feature \u001b[38;5;129;01min\u001b[39;00m \u001b[43manalyze\u001b[49m\u001b[43m(\u001b[49m\u001b[43mdoc\u001b[49m\u001b[43m)\u001b[49m:\n\u001b[1;32m   1202\u001b[0m         \u001b[38;5;28;01mtry\u001b[39;00m:\n\u001b[1;32m   1203\u001b[0m             feature_idx \u001b[38;5;241m=\u001b[39m vocabulary[feature]\n",
      "File \u001b[0;32m~/opt/anaconda3/lib/python3.9/site-packages/sklearn/feature_extraction/text.py:108\u001b[0m, in \u001b[0;36m_analyze\u001b[0;34m(doc, analyzer, tokenizer, ngrams, preprocessor, decoder, stop_words)\u001b[0m\n\u001b[1;32m     86\u001b[0m \u001b[38;5;124;03m\"\"\"Chain together an optional series of text processing steps to go from\u001b[39;00m\n\u001b[1;32m     87\u001b[0m \u001b[38;5;124;03ma single document to ngrams, with or without tokenizing or preprocessing.\u001b[39;00m\n\u001b[1;32m     88\u001b[0m \n\u001b[0;32m   (...)\u001b[0m\n\u001b[1;32m    104\u001b[0m \u001b[38;5;124;03m    A sequence of tokens, possibly with pairs, triples, etc.\u001b[39;00m\n\u001b[1;32m    105\u001b[0m \u001b[38;5;124;03m\"\"\"\u001b[39;00m\n\u001b[1;32m    107\u001b[0m \u001b[38;5;28;01mif\u001b[39;00m decoder \u001b[38;5;129;01mis\u001b[39;00m \u001b[38;5;129;01mnot\u001b[39;00m \u001b[38;5;28;01mNone\u001b[39;00m:\n\u001b[0;32m--> 108\u001b[0m     doc \u001b[38;5;241m=\u001b[39m \u001b[43mdecoder\u001b[49m\u001b[43m(\u001b[49m\u001b[43mdoc\u001b[49m\u001b[43m)\u001b[49m\n\u001b[1;32m    109\u001b[0m \u001b[38;5;28;01mif\u001b[39;00m analyzer \u001b[38;5;129;01mis\u001b[39;00m \u001b[38;5;129;01mnot\u001b[39;00m \u001b[38;5;28;01mNone\u001b[39;00m:\n\u001b[1;32m    110\u001b[0m     doc \u001b[38;5;241m=\u001b[39m analyzer(doc)\n",
      "File \u001b[0;32m~/opt/anaconda3/lib/python3.9/site-packages/sklearn/feature_extraction/text.py:226\u001b[0m, in \u001b[0;36m_VectorizerMixin.decode\u001b[0;34m(self, doc)\u001b[0m\n\u001b[1;32m    223\u001b[0m     doc \u001b[38;5;241m=\u001b[39m doc\u001b[38;5;241m.\u001b[39mdecode(\u001b[38;5;28mself\u001b[39m\u001b[38;5;241m.\u001b[39mencoding, \u001b[38;5;28mself\u001b[39m\u001b[38;5;241m.\u001b[39mdecode_error)\n\u001b[1;32m    225\u001b[0m \u001b[38;5;28;01mif\u001b[39;00m doc \u001b[38;5;129;01mis\u001b[39;00m np\u001b[38;5;241m.\u001b[39mnan:\n\u001b[0;32m--> 226\u001b[0m     \u001b[38;5;28;01mraise\u001b[39;00m \u001b[38;5;167;01mValueError\u001b[39;00m(\n\u001b[1;32m    227\u001b[0m         \u001b[38;5;124m\"\u001b[39m\u001b[38;5;124mnp.nan is an invalid document, expected byte or unicode string.\u001b[39m\u001b[38;5;124m\"\u001b[39m\n\u001b[1;32m    228\u001b[0m     )\n\u001b[1;32m    230\u001b[0m \u001b[38;5;28;01mreturn\u001b[39;00m doc\n",
      "\u001b[0;31mValueError\u001b[0m: np.nan is an invalid document, expected byte or unicode string."
     ]
    }
   ],
   "source": [
    "from sklearn.feature_extraction.text import CountVectorizer\n",
    "count_vect = CountVectorizer()\n",
    "X_train_counts = count_vect.fit_transform(dream_text)\n",
    "X_train_counts.shape"
   ]
  },
  {
   "cell_type": "code",
   "execution_count": 14,
   "id": "9473c4f3-8f35-43c0-a8db-46a0db3537f0",
   "metadata": {},
   "outputs": [
    {
     "data": {
      "text/plain": [
       "4690"
      ]
     },
     "execution_count": 14,
     "metadata": {},
     "output_type": "execute_result"
    }
   ],
   "source": [
    "count_vect.vocabulary_.get(u'algorithm')"
   ]
  },
  {
   "cell_type": "markdown",
   "id": "8873e755-e2df-4cbb-922a-8dd6e15af4f1",
   "metadata": {},
   "source": [
    "### Term frequencies"
   ]
  },
  {
   "cell_type": "code",
   "execution_count": 15,
   "id": "2a428900-4250-4f8b-ad02-a9a4ad54ce53",
   "metadata": {},
   "outputs": [
    {
     "data": {
      "text/plain": [
       "(2257, 35788)"
      ]
     },
     "execution_count": 15,
     "metadata": {},
     "output_type": "execute_result"
    }
   ],
   "source": [
    "from sklearn.feature_extraction.text import TfidfTransformer\n",
    "tf_transformer = TfidfTransformer(use_idf=False).fit(X_train_counts)\n",
    "X_train_tf = tf_transformer.transform(X_train_counts)\n",
    "X_train_tf.shape"
   ]
  },
  {
   "cell_type": "code",
   "execution_count": 16,
   "id": "bf8eadd2-81a7-4e32-b688-c892c22291fd",
   "metadata": {},
   "outputs": [
    {
     "data": {
      "text/plain": [
       "(2257, 35788)"
      ]
     },
     "execution_count": 16,
     "metadata": {},
     "output_type": "execute_result"
    }
   ],
   "source": [
    "tfidf_transformer = TfidfTransformer()\n",
    "X_train_tfidf = tfidf_transformer.fit_transform(X_train_counts)\n",
    "X_train_tfidf.shape"
   ]
  },
  {
   "cell_type": "markdown",
   "id": "179af2f2-4f48-47da-b9e4-81bbb4e731f7",
   "metadata": {},
   "source": [
    "### Training a classifier"
   ]
  },
  {
   "cell_type": "code",
   "execution_count": 18,
   "id": "96c6e4d4-617f-4a23-bd75-5a0c3439e63d",
   "metadata": {},
   "outputs": [],
   "source": [
    "from sklearn.ensemble import RandomForestClassifier\n",
    "clf = RandomForestClassifier().fit(X_train_tfidf, twenty_train.target)\n",
    "\n",
    "# clf = RandomForestClassifier(n_estimators=10, max_depth=None,\n",
    "    #min_samples_split=2, random_state=42)\n",
    "#scores = cross_val_score(clf, X, y, cv=5)\n",
    "#scores.mean()"
   ]
  },
  {
   "cell_type": "code",
   "execution_count": 19,
   "id": "8841cb10-a4c2-4a97-bb18-c8e3b49cba43",
   "metadata": {},
   "outputs": [
    {
     "name": "stdout",
     "output_type": "stream",
     "text": [
      "'God is love' => comp.graphics\n",
      "'OpenGL on the GPU is fast' => comp.graphics\n"
     ]
    }
   ],
   "source": [
    "docs_new = ['God is love', 'OpenGL on the GPU is fast']\n",
    "X_new_counts = count_vect.transform(docs_new)\n",
    "X_new_tfidf = tfidf_transformer.transform(X_new_counts)\n",
    "\n",
    "predicted = clf.predict(X_new_tfidf)\n",
    "\n",
    "for doc, category in zip(docs_new, predicted):\n",
    "    print('%r => %s' % (doc, twenty_train.target_names[category]))"
   ]
  },
  {
   "cell_type": "markdown",
   "id": "21894b9a-75a4-4510-9245-4a20e6bb8de4",
   "metadata": {},
   "source": [
    "#### Building a pipeline"
   ]
  },
  {
   "cell_type": "code",
   "execution_count": 20,
   "id": "4c5447cc-48c8-476f-befc-85d61c31a954",
   "metadata": {},
   "outputs": [],
   "source": [
    "from sklearn.pipeline import Pipeline\n",
    "text_clf = Pipeline([\n",
    "    ('vect', CountVectorizer()),\n",
    "    ('tfidf', TfidfTransformer()),\n",
    "    ('clf', RandomForestClassifier()),\n",
    "])"
   ]
  },
  {
   "cell_type": "code",
   "execution_count": 21,
   "id": "66b7b9ae-374f-4512-8484-ec51982a1830",
   "metadata": {},
   "outputs": [
    {
     "data": {
      "text/plain": [
       "Pipeline(steps=[('vect', CountVectorizer()), ('tfidf', TfidfTransformer()),\n",
       "                ('clf', RandomForestClassifier())])"
      ]
     },
     "execution_count": 21,
     "metadata": {},
     "output_type": "execute_result"
    }
   ],
   "source": [
    "text_clf.fit(twenty_train.data, twenty_train.target)"
   ]
  },
  {
   "cell_type": "markdown",
   "id": "706e4248-a361-4aa4-9df2-6485ecc31086",
   "metadata": {},
   "source": [
    "### Evaluating performance of test set"
   ]
  },
  {
   "cell_type": "code",
   "execution_count": 22,
   "id": "e2e53a73-c5a5-4600-b58e-81040215a829",
   "metadata": {},
   "outputs": [
    {
     "data": {
      "text/plain": [
       "0.8069241011984021"
      ]
     },
     "execution_count": 22,
     "metadata": {},
     "output_type": "execute_result"
    }
   ],
   "source": [
    "twenty_test = fetch_20newsgroups(subset='test',\n",
    "    categories=categories, shuffle=True, random_state=42)\n",
    "docs_test = twenty_test.data\n",
    "predicted = text_clf.predict(docs_test)\n",
    "np.mean(predicted == twenty_test.target)"
   ]
  },
  {
   "cell_type": "markdown",
   "id": "9a8657c5-7e5f-4064-8697-90c3cbadb62d",
   "metadata": {},
   "source": [
    "### Parameter tuning with grid search"
   ]
  },
  {
   "cell_type": "code",
   "execution_count": 44,
   "id": "65e55230-9510-416b-b6fd-661805fbd25f",
   "metadata": {},
   "outputs": [],
   "source": [
    "from sklearn.model_selection import GridSearchCV\n",
    "\n",
    "param_grid = {\n",
    "    'clf__n_estimators': [50, 100, 200, 500],\n",
    "    'clf__max_features': [2, 4, 6, 8],\n",
    "}"
   ]
  },
  {
   "cell_type": "code",
   "execution_count": 45,
   "id": "dca91231-7ecb-4e3a-a89b-3f3fc14708fd",
   "metadata": {},
   "outputs": [],
   "source": [
    "gs_clf = GridSearchCV(text_clf, param_grid, cv=5, n_jobs=-1)"
   ]
  },
  {
   "cell_type": "code",
   "execution_count": 49,
   "id": "c85ccd12-d8f5-49e2-85df-4375f27994c4",
   "metadata": {},
   "outputs": [],
   "source": [
    "gs_clf = gs_clf.fit(twenty_train.data[:400], twenty_train.target[:400])"
   ]
  },
  {
   "cell_type": "code",
   "execution_count": 50,
   "id": "8b270a8c-25ee-47b2-8efe-ebf49be54838",
   "metadata": {},
   "outputs": [
    {
     "data": {
      "text/plain": [
       "'comp.graphics'"
      ]
     },
     "execution_count": 50,
     "metadata": {},
     "output_type": "execute_result"
    }
   ],
   "source": [
    "twenty_train.target_names[gs_clf.predict(['God is love'])[0]]\n",
    "\n",
    "#below output of comp.graphics seems incorrect. in tutorial the output is soc.religion.christian"
   ]
  },
  {
   "cell_type": "code",
   "execution_count": 57,
   "id": "4d7f00c3-f4bb-42ca-824a-5213c8748ce3",
   "metadata": {},
   "outputs": [
    {
     "name": "stdout",
     "output_type": "stream",
     "text": [
      "Best parameter (CV score=0.835):\n",
      "{'clf__max_features': 2, 'clf__n_estimators': 500}\n"
     ]
    }
   ],
   "source": [
    "print(\"Best parameter (CV score=%0.3f):\" % gs_clf.best_score_)\n",
    "print(gs_clf.best_params_)"
   ]
  },
  {
   "cell_type": "code",
   "execution_count": null,
   "id": "af94bdfd-a363-4c62-9f5f-6da00e689beb",
   "metadata": {},
   "outputs": [],
   "source": []
  }
 ],
 "metadata": {
  "kernelspec": {
   "display_name": "Python 3 (ipykernel)",
   "language": "python",
   "name": "python3"
  },
  "language_info": {
   "codemirror_mode": {
    "name": "ipython",
    "version": 3
   },
   "file_extension": ".py",
   "mimetype": "text/x-python",
   "name": "python",
   "nbconvert_exporter": "python",
   "pygments_lexer": "ipython3",
   "version": "3.9.12"
  }
 },
 "nbformat": 4,
 "nbformat_minor": 5
}
