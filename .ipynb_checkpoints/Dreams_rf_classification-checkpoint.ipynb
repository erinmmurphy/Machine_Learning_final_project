{
 "cells": [
  {
   "cell_type": "code",
   "execution_count": 2,
   "id": "ce2163c1-c225-4fb4-aa5c-538df45e8edb",
   "metadata": {},
   "outputs": [],
   "source": [
    "import sklearn \n",
    "import pandas as pd\n",
    "import numpy as np"
   ]
  },
  {
   "cell_type": "code",
   "execution_count": 12,
   "id": "e59730fc-33ad-4c5e-a227-2aeab2ac67c3",
   "metadata": {},
   "outputs": [],
   "source": [
    "#categories = ['alt.atheism', 'soc.religion.christian',\n",
    "#          'comp.graphics', 'sci.med']"
   ]
  },
  {
   "cell_type": "code",
   "execution_count": 4,
   "id": "fa30db8f-0082-48d2-ad71-71cb3a5349aa",
   "metadata": {},
   "outputs": [],
   "source": [
    "#from sklearn.datasets import fetch_20newsgroups\n",
    "#twenty_train = fetch_20newsgroups(subset='train',\n",
    "    # categories=categories, shuffle=True, random_state=42)"
   ]
  },
  {
   "cell_type": "code",
   "execution_count": 4,
   "id": "350d4f4c-09cb-4814-8577-638e10cb1002",
   "metadata": {},
   "outputs": [
    {
     "data": {
      "text/html": [
       "<div>\n",
       "<style scoped>\n",
       "    .dataframe tbody tr th:only-of-type {\n",
       "        vertical-align: middle;\n",
       "    }\n",
       "\n",
       "    .dataframe tbody tr th {\n",
       "        vertical-align: top;\n",
       "    }\n",
       "\n",
       "    .dataframe thead th {\n",
       "        text-align: right;\n",
       "    }\n",
       "</style>\n",
       "<table border=\"1\" class=\"dataframe\">\n",
       "  <thead>\n",
       "    <tr style=\"text-align: right;\">\n",
       "      <th></th>\n",
       "      <th>dream_id</th>\n",
       "      <th>dreamer</th>\n",
       "      <th>description</th>\n",
       "      <th>dream_date</th>\n",
       "      <th>dream_language</th>\n",
       "      <th>text_dream</th>\n",
       "      <th>characters_code</th>\n",
       "      <th>emotions_code</th>\n",
       "      <th>aggression_code</th>\n",
       "      <th>friendliness_code</th>\n",
       "      <th>...</th>\n",
       "      <th>Male</th>\n",
       "      <th>Animal</th>\n",
       "      <th>Friends</th>\n",
       "      <th>Family</th>\n",
       "      <th>Dead&amp;Imaginary</th>\n",
       "      <th>Aggression/Friendliness</th>\n",
       "      <th>A/CIndex</th>\n",
       "      <th>F/CIndex</th>\n",
       "      <th>S/CIndex</th>\n",
       "      <th>NegativeEmotions</th>\n",
       "    </tr>\n",
       "  </thead>\n",
       "  <tbody>\n",
       "    <tr>\n",
       "      <th>0</th>\n",
       "      <td>1.0</td>\n",
       "      <td>alta</td>\n",
       "      <td>Alta: a detailed dreamer</td>\n",
       "      <td>1957</td>\n",
       "      <td>en</td>\n",
       "      <td>The one at the Meads's house, where it's bigge...</td>\n",
       "      <td>2ISA, 1MKA, 1FDA, 1IOA, 2ISA</td>\n",
       "      <td>NaN</td>\n",
       "      <td>2IKA &gt; Q</td>\n",
       "      <td>2IKA 4&gt; Q</td>\n",
       "      <td>...</td>\n",
       "      <td>0.5</td>\n",
       "      <td>0</td>\n",
       "      <td>0.2</td>\n",
       "      <td>0.2</td>\n",
       "      <td>0</td>\n",
       "      <td>0</td>\n",
       "      <td>0.2</td>\n",
       "      <td>0.2</td>\n",
       "      <td>0</td>\n",
       "      <td>0</td>\n",
       "    </tr>\n",
       "    <tr>\n",
       "      <th>1</th>\n",
       "      <td>2.0</td>\n",
       "      <td>alta</td>\n",
       "      <td>Alta: a detailed dreamer</td>\n",
       "      <td>8/11/67</td>\n",
       "      <td>en</td>\n",
       "      <td>I'm at a family reunion in a large fine house ...</td>\n",
       "      <td>2ISA, people, 2ISA</td>\n",
       "      <td>SD 2IKA</td>\n",
       "      <td>D &gt; Q, Q &gt; 2ISA</td>\n",
       "      <td>NaN</td>\n",
       "      <td>...</td>\n",
       "      <td>0</td>\n",
       "      <td>0</td>\n",
       "      <td>0</td>\n",
       "      <td>0</td>\n",
       "      <td>0</td>\n",
       "      <td>1</td>\n",
       "      <td>0.666666667</td>\n",
       "      <td>0</td>\n",
       "      <td>0</td>\n",
       "      <td>1</td>\n",
       "    </tr>\n",
       "    <tr>\n",
       "      <th>2</th>\n",
       "      <td>3.0</td>\n",
       "      <td>alta</td>\n",
       "      <td>Alta: a detailed dreamer</td>\n",
       "      <td>8/1/85</td>\n",
       "      <td>en</td>\n",
       "      <td>I watch a plane fly past and shortly realize i...</td>\n",
       "      <td>2ISA, 2ISA, 1FSA, 1MBA, 1IOA, 2ISA, 2FDA</td>\n",
       "      <td>SD 1ISA, AP D, AP D</td>\n",
       "      <td>It PRP &gt;, It PRP &gt;, D &gt; 1FKA</td>\n",
       "      <td>NaN</td>\n",
       "      <td>...</td>\n",
       "      <td>0.333333333</td>\n",
       "      <td>0</td>\n",
       "      <td>0</td>\n",
       "      <td>0.285714286</td>\n",
       "      <td>0</td>\n",
       "      <td>1</td>\n",
       "      <td>0.428571429</td>\n",
       "      <td>0</td>\n",
       "      <td>0</td>\n",
       "      <td>1</td>\n",
       "    </tr>\n",
       "    <tr>\n",
       "      <th>3</th>\n",
       "      <td>4.0</td>\n",
       "      <td>alta</td>\n",
       "      <td>Alta: a detailed dreamer</td>\n",
       "      <td>1985?</td>\n",
       "      <td>en</td>\n",
       "      <td>Me pulling the green leaves and berries off so...</td>\n",
       "      <td>1MAA, 1FMA, 2ISA, 2IKA, 1ANI, 1ANI, 1IOA, 2ISA...</td>\n",
       "      <td>SD 2ISA, SD D</td>\n",
       "      <td>Q &gt; Q, 2ISA &gt; Q, 2ISA &gt; Q, D &gt; 1MSA</td>\n",
       "      <td>1IKA 4&gt; Q, 2ISA 4&gt; 2ISA</td>\n",
       "      <td>...</td>\n",
       "      <td>0.666666667</td>\n",
       "      <td>0.176470588</td>\n",
       "      <td>0.142857143</td>\n",
       "      <td>0.142857143</td>\n",
       "      <td>0</td>\n",
       "      <td>1</td>\n",
       "      <td>0.235294118</td>\n",
       "      <td>0.117647059</td>\n",
       "      <td>0</td>\n",
       "      <td>1</td>\n",
       "    </tr>\n",
       "    <tr>\n",
       "      <th>4</th>\n",
       "      <td>5.0</td>\n",
       "      <td>alta</td>\n",
       "      <td>Alta: a detailed dreamer</td>\n",
       "      <td>1985?</td>\n",
       "      <td>en</td>\n",
       "      <td>I'm in a room that reminds me of (but definite...</td>\n",
       "      <td>1IRA, 1MSA, 1ISA, 2ISA, 1ISA, 1IKA</td>\n",
       "      <td>AP D, AP D, AP 1MSA, CO D, SD D, AP D</td>\n",
       "      <td>1MSA &gt; D, Q &gt; Q, D &gt; 2IKA, D &gt; 2IKA, D &gt; 1MSA,...</td>\n",
       "      <td>D 4&gt; Q</td>\n",
       "      <td>...</td>\n",
       "      <td>1</td>\n",
       "      <td>0</td>\n",
       "      <td>0.166666667</td>\n",
       "      <td>0.166666667</td>\n",
       "      <td>0</td>\n",
       "      <td>0.875</td>\n",
       "      <td>1.333333333</td>\n",
       "      <td>0.166666667</td>\n",
       "      <td>0</td>\n",
       "      <td>1</td>\n",
       "    </tr>\n",
       "    <tr>\n",
       "      <th>5</th>\n",
       "      <td>6.0</td>\n",
       "      <td>alta</td>\n",
       "      <td>Alta: a detailed dreamer</td>\n",
       "      <td>1985?</td>\n",
       "      <td>en</td>\n",
       "      <td>Living next door to Loretta in an apartment - ...</td>\n",
       "      <td>1FSA, 2ISA, 1FDA, 1IIC</td>\n",
       "      <td>HA 1FSA</td>\n",
       "      <td>D &gt; 2IKA</td>\n",
       "      <td>NaN</td>\n",
       "      <td>...</td>\n",
       "      <td>0</td>\n",
       "      <td>0</td>\n",
       "      <td>0</td>\n",
       "      <td>0.5</td>\n",
       "      <td>0</td>\n",
       "      <td>1</td>\n",
       "      <td>0.25</td>\n",
       "      <td>0</td>\n",
       "      <td>0</td>\n",
       "      <td>0</td>\n",
       "    </tr>\n",
       "    <tr>\n",
       "      <th>6</th>\n",
       "      <td>7.0</td>\n",
       "      <td>alta</td>\n",
       "      <td>Alta: a detailed dreamer</td>\n",
       "      <td>1985?</td>\n",
       "      <td>en</td>\n",
       "      <td>Kidnapped - I'm on my way somewhere else (by c...</td>\n",
       "      <td>2ISA, 2IOA, 1IOA, 1ISA, 2IKA, 2ISA, 2ISA</td>\n",
       "      <td>AN 1ISA, AN D, SD 2ISA, AN D</td>\n",
       "      <td>Q &gt; 2IKA, D &gt; 2ISA, D &gt; Q, 2IKA &gt; D, D &gt; Q, 1I...</td>\n",
       "      <td>NaN</td>\n",
       "      <td>...</td>\n",
       "      <td>0</td>\n",
       "      <td>0</td>\n",
       "      <td>0.142857143</td>\n",
       "      <td>0</td>\n",
       "      <td>0</td>\n",
       "      <td>1</td>\n",
       "      <td>1.571428571</td>\n",
       "      <td>0</td>\n",
       "      <td>0</td>\n",
       "      <td>1</td>\n",
       "    </tr>\n",
       "    <tr>\n",
       "      <th>7</th>\n",
       "      <td>8.0</td>\n",
       "      <td>alta</td>\n",
       "      <td>Alta: a detailed dreamer</td>\n",
       "      <td>1985?</td>\n",
       "      <td>en</td>\n",
       "      <td>I'm alone in an apartment - old place, inside ...</td>\n",
       "      <td>2ISA, 1ISA, 1ISA</td>\n",
       "      <td>AP D, SD D</td>\n",
       "      <td>D &gt; D, 1MSA &gt; D, 1MSA &gt; D, D &gt; 1MSA, D &gt; D, D ...</td>\n",
       "      <td>D 4&gt; D</td>\n",
       "      <td>...</td>\n",
       "      <td>0</td>\n",
       "      <td>0</td>\n",
       "      <td>0</td>\n",
       "      <td>0</td>\n",
       "      <td>0</td>\n",
       "      <td>0.888888889</td>\n",
       "      <td>2.666666667</td>\n",
       "      <td>0.333333333</td>\n",
       "      <td>0</td>\n",
       "      <td>1</td>\n",
       "    </tr>\n",
       "    <tr>\n",
       "      <th>8</th>\n",
       "      <td>9.0</td>\n",
       "      <td>alta</td>\n",
       "      <td>Alta: a detailed dreamer</td>\n",
       "      <td>1985?</td>\n",
       "      <td>en</td>\n",
       "      <td>I'm somewhere with a friend I don't want to be...</td>\n",
       "      <td>1IKA, stepfather, 1ISB, 1MSA</td>\n",
       "      <td>NaN</td>\n",
       "      <td>D &gt; Q</td>\n",
       "      <td>NaN</td>\n",
       "      <td>...</td>\n",
       "      <td>1</td>\n",
       "      <td>0</td>\n",
       "      <td>0.25</td>\n",
       "      <td>0</td>\n",
       "      <td>0</td>\n",
       "      <td>1</td>\n",
       "      <td>0.25</td>\n",
       "      <td>0</td>\n",
       "      <td>0</td>\n",
       "      <td>0</td>\n",
       "    </tr>\n",
       "    <tr>\n",
       "      <th>9</th>\n",
       "      <td>10.0</td>\n",
       "      <td>alta</td>\n",
       "      <td>Alta: a detailed dreamer</td>\n",
       "      <td>1985?</td>\n",
       "      <td>en</td>\n",
       "      <td>I am in some public place, reminds me of the g...</td>\n",
       "      <td>2ISA, 1MKA</td>\n",
       "      <td>NaN</td>\n",
       "      <td>NaN</td>\n",
       "      <td>NaN</td>\n",
       "      <td>...</td>\n",
       "      <td>1</td>\n",
       "      <td>0</td>\n",
       "      <td>0.5</td>\n",
       "      <td>0</td>\n",
       "      <td>0</td>\n",
       "      <td>0</td>\n",
       "      <td>0</td>\n",
       "      <td>0</td>\n",
       "      <td>0</td>\n",
       "      <td>0</td>\n",
       "    </tr>\n",
       "  </tbody>\n",
       "</table>\n",
       "<p>10 rows × 21 columns</p>\n",
       "</div>"
      ],
      "text/plain": [
       "   dream_id dreamer               description dream_date dream_language  \\\n",
       "0       1.0    alta  Alta: a detailed dreamer       1957             en   \n",
       "1       2.0    alta  Alta: a detailed dreamer    8/11/67             en   \n",
       "2       3.0    alta  Alta: a detailed dreamer     8/1/85             en   \n",
       "3       4.0    alta  Alta: a detailed dreamer      1985?             en   \n",
       "4       5.0    alta  Alta: a detailed dreamer      1985?             en   \n",
       "5       6.0    alta  Alta: a detailed dreamer      1985?             en   \n",
       "6       7.0    alta  Alta: a detailed dreamer      1985?             en   \n",
       "7       8.0    alta  Alta: a detailed dreamer      1985?             en   \n",
       "8       9.0    alta  Alta: a detailed dreamer      1985?             en   \n",
       "9      10.0    alta  Alta: a detailed dreamer      1985?             en   \n",
       "\n",
       "                                          text_dream  \\\n",
       "0  The one at the Meads's house, where it's bigge...   \n",
       "1  I'm at a family reunion in a large fine house ...   \n",
       "2  I watch a plane fly past and shortly realize i...   \n",
       "3  Me pulling the green leaves and berries off so...   \n",
       "4  I'm in a room that reminds me of (but definite...   \n",
       "5  Living next door to Loretta in an apartment - ...   \n",
       "6  Kidnapped - I'm on my way somewhere else (by c...   \n",
       "7  I'm alone in an apartment - old place, inside ...   \n",
       "8  I'm somewhere with a friend I don't want to be...   \n",
       "9  I am in some public place, reminds me of the g...   \n",
       "\n",
       "                                     characters_code  \\\n",
       "0                       2ISA, 1MKA, 1FDA, 1IOA, 2ISA   \n",
       "1                                 2ISA, people, 2ISA   \n",
       "2           2ISA, 2ISA, 1FSA, 1MBA, 1IOA, 2ISA, 2FDA   \n",
       "3  1MAA, 1FMA, 2ISA, 2IKA, 1ANI, 1ANI, 1IOA, 2ISA...   \n",
       "4                 1IRA, 1MSA, 1ISA, 2ISA, 1ISA, 1IKA   \n",
       "5                             1FSA, 2ISA, 1FDA, 1IIC   \n",
       "6           2ISA, 2IOA, 1IOA, 1ISA, 2IKA, 2ISA, 2ISA   \n",
       "7                                   2ISA, 1ISA, 1ISA   \n",
       "8                       1IKA, stepfather, 1ISB, 1MSA   \n",
       "9                                         2ISA, 1MKA   \n",
       "\n",
       "                           emotions_code  \\\n",
       "0                                    NaN   \n",
       "1                                SD 2IKA   \n",
       "2                    SD 1ISA, AP D, AP D   \n",
       "3                          SD 2ISA, SD D   \n",
       "4  AP D, AP D, AP 1MSA, CO D, SD D, AP D   \n",
       "5                                HA 1FSA   \n",
       "6           AN 1ISA, AN D, SD 2ISA, AN D   \n",
       "7                             AP D, SD D   \n",
       "8                                    NaN   \n",
       "9                                    NaN   \n",
       "\n",
       "                                     aggression_code        friendliness_code  \\\n",
       "0                                           2IKA > Q                2IKA 4> Q   \n",
       "1                                    D > Q, Q > 2ISA                      NaN   \n",
       "2                       It PRP >, It PRP >, D > 1FKA                      NaN   \n",
       "3                Q > Q, 2ISA > Q, 2ISA > Q, D > 1MSA  1IKA 4> Q, 2ISA 4> 2ISA   \n",
       "4  1MSA > D, Q > Q, D > 2IKA, D > 2IKA, D > 1MSA,...                   D 4> Q   \n",
       "5                                           D > 2IKA                      NaN   \n",
       "6  Q > 2IKA, D > 2ISA, D > Q, 2IKA > D, D > Q, 1I...                      NaN   \n",
       "7  D > D, 1MSA > D, 1MSA > D, D > 1MSA, D > D, D ...                   D 4> D   \n",
       "8                                              D > Q                      NaN   \n",
       "9                                                NaN                      NaN   \n",
       "\n",
       "   ...         Male       Animal      Friends       Family Dead&Imaginary  \\\n",
       "0  ...          0.5            0          0.2          0.2              0   \n",
       "1  ...            0            0            0            0              0   \n",
       "2  ...  0.333333333            0            0  0.285714286              0   \n",
       "3  ...  0.666666667  0.176470588  0.142857143  0.142857143              0   \n",
       "4  ...            1            0  0.166666667  0.166666667              0   \n",
       "5  ...            0            0            0          0.5              0   \n",
       "6  ...            0            0  0.142857143            0              0   \n",
       "7  ...            0            0            0            0              0   \n",
       "8  ...            1            0         0.25            0              0   \n",
       "9  ...            1            0          0.5            0              0   \n",
       "\n",
       "  Aggression/Friendliness     A/CIndex     F/CIndex S/CIndex NegativeEmotions  \n",
       "0                       0          0.2          0.2        0                0  \n",
       "1                       1  0.666666667            0        0                1  \n",
       "2                       1  0.428571429            0        0                1  \n",
       "3                       1  0.235294118  0.117647059        0                1  \n",
       "4                   0.875  1.333333333  0.166666667        0                1  \n",
       "5                       1         0.25            0        0                0  \n",
       "6                       1  1.571428571            0        0                1  \n",
       "7             0.888888889  2.666666667  0.333333333        0                1  \n",
       "8                       1         0.25            0        0                0  \n",
       "9                       0            0            0        0                0  \n",
       "\n",
       "[10 rows x 21 columns]"
      ]
     },
     "execution_count": 4,
     "metadata": {},
     "output_type": "execute_result"
    }
   ],
   "source": [
    "df_dreams = pd.read_csv('data/rsos_dream_data.csv')\n",
    "df_dreams.head(8)"
   ]
  },
  {
   "cell_type": "code",
   "execution_count": 5,
   "id": "73fa0476-4994-47df-ab0b-f9c30638eec5",
   "metadata": {},
   "outputs": [
    {
     "name": "stdout",
     "output_type": "stream",
     "text": [
      "<class 'pandas.core.frame.DataFrame'>\n",
      "RangeIndex: 21001 entries, 0 to 21000\n",
      "Data columns (total 21 columns):\n",
      " #   Column                   Non-Null Count  Dtype  \n",
      "---  ------                   --------------  -----  \n",
      " 0   dream_id                 21000 non-null  float64\n",
      " 1   dreamer                  21000 non-null  object \n",
      " 2   description              21000 non-null  object \n",
      " 3   dream_date               21000 non-null  object \n",
      " 4   dream_language           21000 non-null  object \n",
      " 5   text_dream               21000 non-null  object \n",
      " 6   characters_code          20532 non-null  object \n",
      " 7   emotions_code            11086 non-null  object \n",
      " 8   aggression_code          15432 non-null  object \n",
      " 9   friendliness_code        11239 non-null  object \n",
      " 10  sexuality_code           6470 non-null   object \n",
      " 11  Male                     21001 non-null  object \n",
      " 12  Animal                   21001 non-null  object \n",
      " 13  Friends                  21001 non-null  object \n",
      " 14  Family                   21001 non-null  object \n",
      " 15  Dead&Imaginary           21001 non-null  object \n",
      " 16  Aggression/Friendliness  21001 non-null  object \n",
      " 17  A/CIndex                 21001 non-null  object \n",
      " 18  F/CIndex                 21001 non-null  object \n",
      " 19  S/CIndex                 21001 non-null  object \n",
      " 20  NegativeEmotions         21001 non-null  object \n",
      "dtypes: float64(1), object(20)\n",
      "memory usage: 3.4+ MB\n"
     ]
    }
   ],
   "source": [
    "df_dreams.info()"
   ]
  },
  {
   "cell_type": "code",
   "execution_count": 5,
   "id": "dd9f6af5-ec50-4903-81ca-ee3e5ebeedcd",
   "metadata": {},
   "outputs": [
    {
     "data": {
      "text/plain": [
       "['alt.atheism', 'comp.graphics', 'sci.med', 'soc.religion.christian']"
      ]
     },
     "execution_count": 5,
     "metadata": {},
     "output_type": "execute_result"
    }
   ],
   "source": [
    "twenty_train.target_names"
   ]
  },
  {
   "cell_type": "code",
   "execution_count": 7,
   "id": "06b69477-59af-4973-b969-e03581de1964",
   "metadata": {},
   "outputs": [
    {
     "data": {
      "text/plain": [
       "2257"
      ]
     },
     "execution_count": 7,
     "metadata": {},
     "output_type": "execute_result"
    }
   ],
   "source": [
    "len(twenty_train.data)\n",
    "\n",
    "len(twenty_train.filenames)"
   ]
  },
  {
   "cell_type": "code",
   "execution_count": 8,
   "id": "d4f2fef8-5b3a-4fa0-b1ab-2d90af22e8c2",
   "metadata": {},
   "outputs": [
    {
     "name": "stdout",
     "output_type": "stream",
     "text": [
      "From: sd345@city.ac.uk (Michael Collier)\n",
      "Subject: Converting images to HP LaserJet III?\n",
      "Nntp-Posting-Host: hampton\n"
     ]
    }
   ],
   "source": [
    "print(\"\\n\".join(twenty_train.data[0].split(\"\\n\")[:3]))"
   ]
  },
  {
   "cell_type": "code",
   "execution_count": 9,
   "id": "8c02122e-fe9b-4136-9062-ae4625672ab6",
   "metadata": {},
   "outputs": [
    {
     "name": "stdout",
     "output_type": "stream",
     "text": [
      "comp.graphics\n"
     ]
    }
   ],
   "source": [
    "print(twenty_train.target_names[twenty_train.target[0]])"
   ]
  },
  {
   "cell_type": "code",
   "execution_count": 10,
   "id": "cf243760-67ad-4dad-a32d-8e7d4c3d0012",
   "metadata": {},
   "outputs": [
    {
     "data": {
      "text/plain": [
       "array([1, 1, 3, 3, 3, 3, 3, 2, 2, 2])"
      ]
     },
     "execution_count": 10,
     "metadata": {},
     "output_type": "execute_result"
    }
   ],
   "source": [
    "twenty_train.target[:10]"
   ]
  },
  {
   "cell_type": "code",
   "execution_count": 11,
   "id": "ea2c6250-6348-4d7e-b142-e4e2e9e36893",
   "metadata": {},
   "outputs": [
    {
     "name": "stdout",
     "output_type": "stream",
     "text": [
      "comp.graphics\n",
      "comp.graphics\n",
      "soc.religion.christian\n",
      "soc.religion.christian\n",
      "soc.religion.christian\n",
      "soc.religion.christian\n",
      "soc.religion.christian\n",
      "sci.med\n",
      "sci.med\n",
      "sci.med\n"
     ]
    }
   ],
   "source": [
    "for t in twenty_train.target[:10]:\n",
    "    print(twenty_train.target_names[t])"
   ]
  },
  {
   "cell_type": "markdown",
   "id": "1ca6d149-e7dd-45ad-82d8-41b989691968",
   "metadata": {},
   "source": [
    "### Tokenizing text with scikit-learn"
   ]
  },
  {
   "cell_type": "code",
   "execution_count": 13,
   "id": "ebaf9272-02de-4485-9672-c1810607afa2",
   "metadata": {},
   "outputs": [
    {
     "data": {
      "text/plain": [
       "(2257, 35788)"
      ]
     },
     "execution_count": 13,
     "metadata": {},
     "output_type": "execute_result"
    }
   ],
   "source": [
    "from sklearn.feature_extraction.text import CountVectorizer\n",
    "count_vect = CountVectorizer()\n",
    "X_train_counts = count_vect.fit_transform(twenty_train.data)\n",
    "X_train_counts.shape"
   ]
  },
  {
   "cell_type": "code",
   "execution_count": 14,
   "id": "9473c4f3-8f35-43c0-a8db-46a0db3537f0",
   "metadata": {},
   "outputs": [
    {
     "data": {
      "text/plain": [
       "4690"
      ]
     },
     "execution_count": 14,
     "metadata": {},
     "output_type": "execute_result"
    }
   ],
   "source": [
    "count_vect.vocabulary_.get(u'algorithm')"
   ]
  },
  {
   "cell_type": "markdown",
   "id": "8873e755-e2df-4cbb-922a-8dd6e15af4f1",
   "metadata": {},
   "source": [
    "### Term frequencies"
   ]
  },
  {
   "cell_type": "code",
   "execution_count": 15,
   "id": "2a428900-4250-4f8b-ad02-a9a4ad54ce53",
   "metadata": {},
   "outputs": [
    {
     "data": {
      "text/plain": [
       "(2257, 35788)"
      ]
     },
     "execution_count": 15,
     "metadata": {},
     "output_type": "execute_result"
    }
   ],
   "source": [
    "from sklearn.feature_extraction.text import TfidfTransformer\n",
    "tf_transformer = TfidfTransformer(use_idf=False).fit(X_train_counts)\n",
    "X_train_tf = tf_transformer.transform(X_train_counts)\n",
    "X_train_tf.shape"
   ]
  },
  {
   "cell_type": "code",
   "execution_count": 16,
   "id": "bf8eadd2-81a7-4e32-b688-c892c22291fd",
   "metadata": {},
   "outputs": [
    {
     "data": {
      "text/plain": [
       "(2257, 35788)"
      ]
     },
     "execution_count": 16,
     "metadata": {},
     "output_type": "execute_result"
    }
   ],
   "source": [
    "tfidf_transformer = TfidfTransformer()\n",
    "X_train_tfidf = tfidf_transformer.fit_transform(X_train_counts)\n",
    "X_train_tfidf.shape"
   ]
  },
  {
   "cell_type": "markdown",
   "id": "179af2f2-4f48-47da-b9e4-81bbb4e731f7",
   "metadata": {},
   "source": [
    "### Training a classifier"
   ]
  },
  {
   "cell_type": "code",
   "execution_count": 18,
   "id": "96c6e4d4-617f-4a23-bd75-5a0c3439e63d",
   "metadata": {},
   "outputs": [],
   "source": [
    "from sklearn.ensemble import RandomForestClassifier\n",
    "clf = RandomForestClassifier().fit(X_train_tfidf, twenty_train.target)\n",
    "\n",
    "# clf = RandomForestClassifier(n_estimators=10, max_depth=None,\n",
    "    #min_samples_split=2, random_state=42)\n",
    "#scores = cross_val_score(clf, X, y, cv=5)\n",
    "#scores.mean()"
   ]
  },
  {
   "cell_type": "code",
   "execution_count": 19,
   "id": "8841cb10-a4c2-4a97-bb18-c8e3b49cba43",
   "metadata": {},
   "outputs": [
    {
     "name": "stdout",
     "output_type": "stream",
     "text": [
      "'God is love' => comp.graphics\n",
      "'OpenGL on the GPU is fast' => comp.graphics\n"
     ]
    }
   ],
   "source": [
    "docs_new = ['God is love', 'OpenGL on the GPU is fast']\n",
    "X_new_counts = count_vect.transform(docs_new)\n",
    "X_new_tfidf = tfidf_transformer.transform(X_new_counts)\n",
    "\n",
    "predicted = clf.predict(X_new_tfidf)\n",
    "\n",
    "for doc, category in zip(docs_new, predicted):\n",
    "    print('%r => %s' % (doc, twenty_train.target_names[category]))"
   ]
  },
  {
   "cell_type": "markdown",
   "id": "21894b9a-75a4-4510-9245-4a20e6bb8de4",
   "metadata": {},
   "source": [
    "#### Building a pipeline"
   ]
  },
  {
   "cell_type": "code",
   "execution_count": 20,
   "id": "4c5447cc-48c8-476f-befc-85d61c31a954",
   "metadata": {},
   "outputs": [],
   "source": [
    "from sklearn.pipeline import Pipeline\n",
    "text_clf = Pipeline([\n",
    "    ('vect', CountVectorizer()),\n",
    "    ('tfidf', TfidfTransformer()),\n",
    "    ('clf', RandomForestClassifier()),\n",
    "])"
   ]
  },
  {
   "cell_type": "code",
   "execution_count": 21,
   "id": "66b7b9ae-374f-4512-8484-ec51982a1830",
   "metadata": {},
   "outputs": [
    {
     "data": {
      "text/plain": [
       "Pipeline(steps=[('vect', CountVectorizer()), ('tfidf', TfidfTransformer()),\n",
       "                ('clf', RandomForestClassifier())])"
      ]
     },
     "execution_count": 21,
     "metadata": {},
     "output_type": "execute_result"
    }
   ],
   "source": [
    "text_clf.fit(twenty_train.data, twenty_train.target)"
   ]
  },
  {
   "cell_type": "markdown",
   "id": "706e4248-a361-4aa4-9df2-6485ecc31086",
   "metadata": {},
   "source": [
    "### Evaluating performance of test set"
   ]
  },
  {
   "cell_type": "code",
   "execution_count": 22,
   "id": "e2e53a73-c5a5-4600-b58e-81040215a829",
   "metadata": {},
   "outputs": [
    {
     "data": {
      "text/plain": [
       "0.8069241011984021"
      ]
     },
     "execution_count": 22,
     "metadata": {},
     "output_type": "execute_result"
    }
   ],
   "source": [
    "twenty_test = fetch_20newsgroups(subset='test',\n",
    "    categories=categories, shuffle=True, random_state=42)\n",
    "docs_test = twenty_test.data\n",
    "predicted = text_clf.predict(docs_test)\n",
    "np.mean(predicted == twenty_test.target)"
   ]
  },
  {
   "cell_type": "markdown",
   "id": "9a8657c5-7e5f-4064-8697-90c3cbadb62d",
   "metadata": {},
   "source": [
    "### Parameter tuning with grid search"
   ]
  },
  {
   "cell_type": "code",
   "execution_count": 44,
   "id": "65e55230-9510-416b-b6fd-661805fbd25f",
   "metadata": {},
   "outputs": [],
   "source": [
    "from sklearn.model_selection import GridSearchCV\n",
    "\n",
    "param_grid = {\n",
    "    'clf__n_estimators': [50, 100, 200, 500],\n",
    "    'clf__max_features': [2, 4, 6, 8],\n",
    "}"
   ]
  },
  {
   "cell_type": "code",
   "execution_count": 45,
   "id": "dca91231-7ecb-4e3a-a89b-3f3fc14708fd",
   "metadata": {},
   "outputs": [],
   "source": [
    "gs_clf = GridSearchCV(text_clf, param_grid, cv=5, n_jobs=-1)"
   ]
  },
  {
   "cell_type": "code",
   "execution_count": 49,
   "id": "c85ccd12-d8f5-49e2-85df-4375f27994c4",
   "metadata": {},
   "outputs": [],
   "source": [
    "gs_clf = gs_clf.fit(twenty_train.data[:400], twenty_train.target[:400])"
   ]
  },
  {
   "cell_type": "code",
   "execution_count": 50,
   "id": "8b270a8c-25ee-47b2-8efe-ebf49be54838",
   "metadata": {},
   "outputs": [
    {
     "data": {
      "text/plain": [
       "'comp.graphics'"
      ]
     },
     "execution_count": 50,
     "metadata": {},
     "output_type": "execute_result"
    }
   ],
   "source": [
    "twenty_train.target_names[gs_clf.predict(['God is love'])[0]]\n",
    "\n",
    "#below output of comp.graphics seems incorrect. in tutorial the output is soc.religion.christian"
   ]
  },
  {
   "cell_type": "code",
   "execution_count": 57,
   "id": "4d7f00c3-f4bb-42ca-824a-5213c8748ce3",
   "metadata": {},
   "outputs": [
    {
     "name": "stdout",
     "output_type": "stream",
     "text": [
      "Best parameter (CV score=0.835):\n",
      "{'clf__max_features': 2, 'clf__n_estimators': 500}\n"
     ]
    }
   ],
   "source": [
    "print(\"Best parameter (CV score=%0.3f):\" % gs_clf.best_score_)\n",
    "print(gs_clf.best_params_)"
   ]
  },
  {
   "cell_type": "code",
   "execution_count": null,
   "id": "af94bdfd-a363-4c62-9f5f-6da00e689beb",
   "metadata": {},
   "outputs": [],
   "source": []
  }
 ],
 "metadata": {
  "kernelspec": {
   "display_name": "Python 3 (ipykernel)",
   "language": "python",
   "name": "python3"
  },
  "language_info": {
   "codemirror_mode": {
    "name": "ipython",
    "version": 3
   },
   "file_extension": ".py",
   "mimetype": "text/x-python",
   "name": "python",
   "nbconvert_exporter": "python",
   "pygments_lexer": "ipython3",
   "version": "3.9.12"
  }
 },
 "nbformat": 4,
 "nbformat_minor": 5
}
